{
  "cells": [
    {
      "cell_type": "markdown",
      "metadata": {
        "id": "view-in-github",
        "colab_type": "text"
      },
      "source": [
        "<a href=\"https://colab.research.google.com/github/banteamlak1888/ML_project_2025/blob/main/Task4_Before_Balancing_dataset.ipynb\" target=\"_parent\"><img src=\"https://colab.research.google.com/assets/colab-badge.svg\" alt=\"Open In Colab\"/></a>"
      ]
    },
    {
      "cell_type": "code",
      "source": [
        "!pip install tensorflow"
      ],
      "metadata": {
        "id": "IxcPy206vaP0"
      },
      "id": "IxcPy206vaP0",
      "execution_count": null,
      "outputs": []
    },
    {
      "cell_type": "code",
      "execution_count": 3,
      "id": "2503db30",
      "metadata": {
        "scrolled": true,
        "id": "2503db30"
      },
      "outputs": [],
      "source": [
        "import pandas as pd\n",
        "import numpy as np\n"
      ]
    },
    {
      "cell_type": "code",
      "execution_count": 4,
      "id": "ea23a28e",
      "metadata": {
        "id": "ea23a28e"
      },
      "outputs": [],
      "source": [
        "from sklearn.exceptions import ConvergenceWarning\n",
        "\n",
        "from warnings import simplefilter\n",
        "\n",
        "simplefilter(action='ignore', category=ConvergenceWarning)"
      ]
    },
    {
      "cell_type": "code",
      "execution_count": 5,
      "id": "409bb867",
      "metadata": {
        "id": "409bb867"
      },
      "outputs": [],
      "source": [
        "from pandas.plotting import scatter_matrix\n",
        "from matplotlib import pyplot as plt\n",
        "\n",
        "import tensorflow as tf\n",
        "from tensorflow import keras\n",
        "from keras.models import Sequential\n",
        "from keras.layers import Dense\n",
        "\n",
        "from sklearn.model_selection import train_test_split\n",
        "from sklearn.model_selection import KFold\n",
        "from sklearn.model_selection import cross_val_score\n",
        "from sklearn.model_selection import cross_val_predict\n",
        "\n",
        "\n",
        "from sklearn.preprocessing import MinMaxScaler\n",
        "\n",
        "from sklearn.metrics import classification_report\n",
        "from sklearn.metrics import accuracy_score\n",
        "from sklearn.metrics import precision_score\n",
        "from sklearn.metrics import recall_score\n",
        "from sklearn.metrics import f1_score\n",
        "from sklearn.metrics import confusion_matrix\n",
        "\n",
        "from sklearn.svm import SVC\n",
        "\n",
        "from sklearn.ensemble import RandomForestClassifier\n",
        "from sklearn.neural_network import MLPClassifier\n",
        "from sklearn.tree import DecisionTreeClassifier\n",
        "from sklearn.naive_bayes import MultinomialNB"
      ]
    },
    {
      "cell_type": "code",
      "source": [
        "df=pd.read_csv('T2_Filled_data_water_potability.csv')\n",
        "df"
      ],
      "metadata": {
        "colab": {
          "base_uri": "https://localhost:8080/",
          "height": 424
        },
        "id": "ImIlSWZxvRK7",
        "outputId": "d62f9b02-08fb-4ce8-ad59-78318ad25805"
      },
      "id": "ImIlSWZxvRK7",
      "execution_count": 7,
      "outputs": [
        {
          "output_type": "execute_result",
          "data": {
            "text/plain": [
              "            ph    Hardness        Solids  Chloramines     Sulfate  \\\n",
              "0     7.080795  204.890455  20791.318981     7.300212  368.516441   \n",
              "1     3.716080  129.422921  18630.057858     6.635246  333.775777   \n",
              "2     8.099124  224.236259  19909.541732     9.275884  333.775777   \n",
              "3     8.316766  214.373394  22018.417441     8.059332  356.886136   \n",
              "4     9.092223  181.101509  17978.986339     6.546600  310.135738   \n",
              "...        ...         ...           ...          ...         ...   \n",
              "3271  4.668102  193.681735  47580.991603     7.166639  359.948574   \n",
              "3272  7.808856  193.553212  17329.802160     8.061362  333.775777   \n",
              "3273  9.419510  175.762646  33155.578218     7.350233  333.775777   \n",
              "3274  5.126763  230.603758  11983.869376     6.303357  333.775777   \n",
              "3275  7.874671  195.102299  17404.177061     7.509306  333.775777   \n",
              "\n",
              "      Conductivity  Organic_carbon  Trihalomethanes  Turbidity  Potability  \n",
              "0       564.308654       10.379783        86.990970   2.963135           0  \n",
              "1       592.885359       15.180013        56.329076   4.500656           0  \n",
              "2       418.606213       16.868637        66.420093   3.055934           0  \n",
              "3       363.266516       18.436524       100.341674   4.628771           0  \n",
              "4       398.410813       11.558279        31.997993   4.075075           0  \n",
              "...            ...             ...              ...        ...         ...  \n",
              "3271    526.424171       13.894419        66.687695   4.435821           1  \n",
              "3272    392.449580       19.903225        66.396293   2.798243           1  \n",
              "3273    432.044783       11.039070        69.845400   3.298875           1  \n",
              "3274    402.883113       11.168946        77.488213   4.708658           1  \n",
              "3275    327.459760       16.140368        78.698446   2.309149           1  \n",
              "\n",
              "[3276 rows x 10 columns]"
            ],
            "text/html": [
              "\n",
              "  <div id=\"df-0b6032ce-550d-4809-bd6b-83a7391ae7f4\" class=\"colab-df-container\">\n",
              "    <div>\n",
              "<style scoped>\n",
              "    .dataframe tbody tr th:only-of-type {\n",
              "        vertical-align: middle;\n",
              "    }\n",
              "\n",
              "    .dataframe tbody tr th {\n",
              "        vertical-align: top;\n",
              "    }\n",
              "\n",
              "    .dataframe thead th {\n",
              "        text-align: right;\n",
              "    }\n",
              "</style>\n",
              "<table border=\"1\" class=\"dataframe\">\n",
              "  <thead>\n",
              "    <tr style=\"text-align: right;\">\n",
              "      <th></th>\n",
              "      <th>ph</th>\n",
              "      <th>Hardness</th>\n",
              "      <th>Solids</th>\n",
              "      <th>Chloramines</th>\n",
              "      <th>Sulfate</th>\n",
              "      <th>Conductivity</th>\n",
              "      <th>Organic_carbon</th>\n",
              "      <th>Trihalomethanes</th>\n",
              "      <th>Turbidity</th>\n",
              "      <th>Potability</th>\n",
              "    </tr>\n",
              "  </thead>\n",
              "  <tbody>\n",
              "    <tr>\n",
              "      <th>0</th>\n",
              "      <td>7.080795</td>\n",
              "      <td>204.890455</td>\n",
              "      <td>20791.318981</td>\n",
              "      <td>7.300212</td>\n",
              "      <td>368.516441</td>\n",
              "      <td>564.308654</td>\n",
              "      <td>10.379783</td>\n",
              "      <td>86.990970</td>\n",
              "      <td>2.963135</td>\n",
              "      <td>0</td>\n",
              "    </tr>\n",
              "    <tr>\n",
              "      <th>1</th>\n",
              "      <td>3.716080</td>\n",
              "      <td>129.422921</td>\n",
              "      <td>18630.057858</td>\n",
              "      <td>6.635246</td>\n",
              "      <td>333.775777</td>\n",
              "      <td>592.885359</td>\n",
              "      <td>15.180013</td>\n",
              "      <td>56.329076</td>\n",
              "      <td>4.500656</td>\n",
              "      <td>0</td>\n",
              "    </tr>\n",
              "    <tr>\n",
              "      <th>2</th>\n",
              "      <td>8.099124</td>\n",
              "      <td>224.236259</td>\n",
              "      <td>19909.541732</td>\n",
              "      <td>9.275884</td>\n",
              "      <td>333.775777</td>\n",
              "      <td>418.606213</td>\n",
              "      <td>16.868637</td>\n",
              "      <td>66.420093</td>\n",
              "      <td>3.055934</td>\n",
              "      <td>0</td>\n",
              "    </tr>\n",
              "    <tr>\n",
              "      <th>3</th>\n",
              "      <td>8.316766</td>\n",
              "      <td>214.373394</td>\n",
              "      <td>22018.417441</td>\n",
              "      <td>8.059332</td>\n",
              "      <td>356.886136</td>\n",
              "      <td>363.266516</td>\n",
              "      <td>18.436524</td>\n",
              "      <td>100.341674</td>\n",
              "      <td>4.628771</td>\n",
              "      <td>0</td>\n",
              "    </tr>\n",
              "    <tr>\n",
              "      <th>4</th>\n",
              "      <td>9.092223</td>\n",
              "      <td>181.101509</td>\n",
              "      <td>17978.986339</td>\n",
              "      <td>6.546600</td>\n",
              "      <td>310.135738</td>\n",
              "      <td>398.410813</td>\n",
              "      <td>11.558279</td>\n",
              "      <td>31.997993</td>\n",
              "      <td>4.075075</td>\n",
              "      <td>0</td>\n",
              "    </tr>\n",
              "    <tr>\n",
              "      <th>...</th>\n",
              "      <td>...</td>\n",
              "      <td>...</td>\n",
              "      <td>...</td>\n",
              "      <td>...</td>\n",
              "      <td>...</td>\n",
              "      <td>...</td>\n",
              "      <td>...</td>\n",
              "      <td>...</td>\n",
              "      <td>...</td>\n",
              "      <td>...</td>\n",
              "    </tr>\n",
              "    <tr>\n",
              "      <th>3271</th>\n",
              "      <td>4.668102</td>\n",
              "      <td>193.681735</td>\n",
              "      <td>47580.991603</td>\n",
              "      <td>7.166639</td>\n",
              "      <td>359.948574</td>\n",
              "      <td>526.424171</td>\n",
              "      <td>13.894419</td>\n",
              "      <td>66.687695</td>\n",
              "      <td>4.435821</td>\n",
              "      <td>1</td>\n",
              "    </tr>\n",
              "    <tr>\n",
              "      <th>3272</th>\n",
              "      <td>7.808856</td>\n",
              "      <td>193.553212</td>\n",
              "      <td>17329.802160</td>\n",
              "      <td>8.061362</td>\n",
              "      <td>333.775777</td>\n",
              "      <td>392.449580</td>\n",
              "      <td>19.903225</td>\n",
              "      <td>66.396293</td>\n",
              "      <td>2.798243</td>\n",
              "      <td>1</td>\n",
              "    </tr>\n",
              "    <tr>\n",
              "      <th>3273</th>\n",
              "      <td>9.419510</td>\n",
              "      <td>175.762646</td>\n",
              "      <td>33155.578218</td>\n",
              "      <td>7.350233</td>\n",
              "      <td>333.775777</td>\n",
              "      <td>432.044783</td>\n",
              "      <td>11.039070</td>\n",
              "      <td>69.845400</td>\n",
              "      <td>3.298875</td>\n",
              "      <td>1</td>\n",
              "    </tr>\n",
              "    <tr>\n",
              "      <th>3274</th>\n",
              "      <td>5.126763</td>\n",
              "      <td>230.603758</td>\n",
              "      <td>11983.869376</td>\n",
              "      <td>6.303357</td>\n",
              "      <td>333.775777</td>\n",
              "      <td>402.883113</td>\n",
              "      <td>11.168946</td>\n",
              "      <td>77.488213</td>\n",
              "      <td>4.708658</td>\n",
              "      <td>1</td>\n",
              "    </tr>\n",
              "    <tr>\n",
              "      <th>3275</th>\n",
              "      <td>7.874671</td>\n",
              "      <td>195.102299</td>\n",
              "      <td>17404.177061</td>\n",
              "      <td>7.509306</td>\n",
              "      <td>333.775777</td>\n",
              "      <td>327.459760</td>\n",
              "      <td>16.140368</td>\n",
              "      <td>78.698446</td>\n",
              "      <td>2.309149</td>\n",
              "      <td>1</td>\n",
              "    </tr>\n",
              "  </tbody>\n",
              "</table>\n",
              "<p>3276 rows × 10 columns</p>\n",
              "</div>\n",
              "    <div class=\"colab-df-buttons\">\n",
              "\n",
              "  <div class=\"colab-df-container\">\n",
              "    <button class=\"colab-df-convert\" onclick=\"convertToInteractive('df-0b6032ce-550d-4809-bd6b-83a7391ae7f4')\"\n",
              "            title=\"Convert this dataframe to an interactive table.\"\n",
              "            style=\"display:none;\">\n",
              "\n",
              "  <svg xmlns=\"http://www.w3.org/2000/svg\" height=\"24px\" viewBox=\"0 -960 960 960\">\n",
              "    <path d=\"M120-120v-720h720v720H120Zm60-500h600v-160H180v160Zm220 220h160v-160H400v160Zm0 220h160v-160H400v160ZM180-400h160v-160H180v160Zm440 0h160v-160H620v160ZM180-180h160v-160H180v160Zm440 0h160v-160H620v160Z\"/>\n",
              "  </svg>\n",
              "    </button>\n",
              "\n",
              "  <style>\n",
              "    .colab-df-container {\n",
              "      display:flex;\n",
              "      gap: 12px;\n",
              "    }\n",
              "\n",
              "    .colab-df-convert {\n",
              "      background-color: #E8F0FE;\n",
              "      border: none;\n",
              "      border-radius: 50%;\n",
              "      cursor: pointer;\n",
              "      display: none;\n",
              "      fill: #1967D2;\n",
              "      height: 32px;\n",
              "      padding: 0 0 0 0;\n",
              "      width: 32px;\n",
              "    }\n",
              "\n",
              "    .colab-df-convert:hover {\n",
              "      background-color: #E2EBFA;\n",
              "      box-shadow: 0px 1px 2px rgba(60, 64, 67, 0.3), 0px 1px 3px 1px rgba(60, 64, 67, 0.15);\n",
              "      fill: #174EA6;\n",
              "    }\n",
              "\n",
              "    .colab-df-buttons div {\n",
              "      margin-bottom: 4px;\n",
              "    }\n",
              "\n",
              "    [theme=dark] .colab-df-convert {\n",
              "      background-color: #3B4455;\n",
              "      fill: #D2E3FC;\n",
              "    }\n",
              "\n",
              "    [theme=dark] .colab-df-convert:hover {\n",
              "      background-color: #434B5C;\n",
              "      box-shadow: 0px 1px 3px 1px rgba(0, 0, 0, 0.15);\n",
              "      filter: drop-shadow(0px 1px 2px rgba(0, 0, 0, 0.3));\n",
              "      fill: #FFFFFF;\n",
              "    }\n",
              "  </style>\n",
              "\n",
              "    <script>\n",
              "      const buttonEl =\n",
              "        document.querySelector('#df-0b6032ce-550d-4809-bd6b-83a7391ae7f4 button.colab-df-convert');\n",
              "      buttonEl.style.display =\n",
              "        google.colab.kernel.accessAllowed ? 'block' : 'none';\n",
              "\n",
              "      async function convertToInteractive(key) {\n",
              "        const element = document.querySelector('#df-0b6032ce-550d-4809-bd6b-83a7391ae7f4');\n",
              "        const dataTable =\n",
              "          await google.colab.kernel.invokeFunction('convertToInteractive',\n",
              "                                                    [key], {});\n",
              "        if (!dataTable) return;\n",
              "\n",
              "        const docLinkHtml = 'Like what you see? Visit the ' +\n",
              "          '<a target=\"_blank\" href=https://colab.research.google.com/notebooks/data_table.ipynb>data table notebook</a>'\n",
              "          + ' to learn more about interactive tables.';\n",
              "        element.innerHTML = '';\n",
              "        dataTable['output_type'] = 'display_data';\n",
              "        await google.colab.output.renderOutput(dataTable, element);\n",
              "        const docLink = document.createElement('div');\n",
              "        docLink.innerHTML = docLinkHtml;\n",
              "        element.appendChild(docLink);\n",
              "      }\n",
              "    </script>\n",
              "  </div>\n",
              "\n",
              "\n",
              "<div id=\"df-bba12fd6-dd1e-4f68-897b-5510c619b1a7\">\n",
              "  <button class=\"colab-df-quickchart\" onclick=\"quickchart('df-bba12fd6-dd1e-4f68-897b-5510c619b1a7')\"\n",
              "            title=\"Suggest charts\"\n",
              "            style=\"display:none;\">\n",
              "\n",
              "<svg xmlns=\"http://www.w3.org/2000/svg\" height=\"24px\"viewBox=\"0 0 24 24\"\n",
              "     width=\"24px\">\n",
              "    <g>\n",
              "        <path d=\"M19 3H5c-1.1 0-2 .9-2 2v14c0 1.1.9 2 2 2h14c1.1 0 2-.9 2-2V5c0-1.1-.9-2-2-2zM9 17H7v-7h2v7zm4 0h-2V7h2v10zm4 0h-2v-4h2v4z\"/>\n",
              "    </g>\n",
              "</svg>\n",
              "  </button>\n",
              "\n",
              "<style>\n",
              "  .colab-df-quickchart {\n",
              "      --bg-color: #E8F0FE;\n",
              "      --fill-color: #1967D2;\n",
              "      --hover-bg-color: #E2EBFA;\n",
              "      --hover-fill-color: #174EA6;\n",
              "      --disabled-fill-color: #AAA;\n",
              "      --disabled-bg-color: #DDD;\n",
              "  }\n",
              "\n",
              "  [theme=dark] .colab-df-quickchart {\n",
              "      --bg-color: #3B4455;\n",
              "      --fill-color: #D2E3FC;\n",
              "      --hover-bg-color: #434B5C;\n",
              "      --hover-fill-color: #FFFFFF;\n",
              "      --disabled-bg-color: #3B4455;\n",
              "      --disabled-fill-color: #666;\n",
              "  }\n",
              "\n",
              "  .colab-df-quickchart {\n",
              "    background-color: var(--bg-color);\n",
              "    border: none;\n",
              "    border-radius: 50%;\n",
              "    cursor: pointer;\n",
              "    display: none;\n",
              "    fill: var(--fill-color);\n",
              "    height: 32px;\n",
              "    padding: 0;\n",
              "    width: 32px;\n",
              "  }\n",
              "\n",
              "  .colab-df-quickchart:hover {\n",
              "    background-color: var(--hover-bg-color);\n",
              "    box-shadow: 0 1px 2px rgba(60, 64, 67, 0.3), 0 1px 3px 1px rgba(60, 64, 67, 0.15);\n",
              "    fill: var(--button-hover-fill-color);\n",
              "  }\n",
              "\n",
              "  .colab-df-quickchart-complete:disabled,\n",
              "  .colab-df-quickchart-complete:disabled:hover {\n",
              "    background-color: var(--disabled-bg-color);\n",
              "    fill: var(--disabled-fill-color);\n",
              "    box-shadow: none;\n",
              "  }\n",
              "\n",
              "  .colab-df-spinner {\n",
              "    border: 2px solid var(--fill-color);\n",
              "    border-color: transparent;\n",
              "    border-bottom-color: var(--fill-color);\n",
              "    animation:\n",
              "      spin 1s steps(1) infinite;\n",
              "  }\n",
              "\n",
              "  @keyframes spin {\n",
              "    0% {\n",
              "      border-color: transparent;\n",
              "      border-bottom-color: var(--fill-color);\n",
              "      border-left-color: var(--fill-color);\n",
              "    }\n",
              "    20% {\n",
              "      border-color: transparent;\n",
              "      border-left-color: var(--fill-color);\n",
              "      border-top-color: var(--fill-color);\n",
              "    }\n",
              "    30% {\n",
              "      border-color: transparent;\n",
              "      border-left-color: var(--fill-color);\n",
              "      border-top-color: var(--fill-color);\n",
              "      border-right-color: var(--fill-color);\n",
              "    }\n",
              "    40% {\n",
              "      border-color: transparent;\n",
              "      border-right-color: var(--fill-color);\n",
              "      border-top-color: var(--fill-color);\n",
              "    }\n",
              "    60% {\n",
              "      border-color: transparent;\n",
              "      border-right-color: var(--fill-color);\n",
              "    }\n",
              "    80% {\n",
              "      border-color: transparent;\n",
              "      border-right-color: var(--fill-color);\n",
              "      border-bottom-color: var(--fill-color);\n",
              "    }\n",
              "    90% {\n",
              "      border-color: transparent;\n",
              "      border-bottom-color: var(--fill-color);\n",
              "    }\n",
              "  }\n",
              "</style>\n",
              "\n",
              "  <script>\n",
              "    async function quickchart(key) {\n",
              "      const quickchartButtonEl =\n",
              "        document.querySelector('#' + key + ' button');\n",
              "      quickchartButtonEl.disabled = true;  // To prevent multiple clicks.\n",
              "      quickchartButtonEl.classList.add('colab-df-spinner');\n",
              "      try {\n",
              "        const charts = await google.colab.kernel.invokeFunction(\n",
              "            'suggestCharts', [key], {});\n",
              "      } catch (error) {\n",
              "        console.error('Error during call to suggestCharts:', error);\n",
              "      }\n",
              "      quickchartButtonEl.classList.remove('colab-df-spinner');\n",
              "      quickchartButtonEl.classList.add('colab-df-quickchart-complete');\n",
              "    }\n",
              "    (() => {\n",
              "      let quickchartButtonEl =\n",
              "        document.querySelector('#df-bba12fd6-dd1e-4f68-897b-5510c619b1a7 button');\n",
              "      quickchartButtonEl.style.display =\n",
              "        google.colab.kernel.accessAllowed ? 'block' : 'none';\n",
              "    })();\n",
              "  </script>\n",
              "</div>\n",
              "\n",
              "  <div id=\"id_578e823c-c4dd-4d21-95bd-002de5adeb07\">\n",
              "    <style>\n",
              "      .colab-df-generate {\n",
              "        background-color: #E8F0FE;\n",
              "        border: none;\n",
              "        border-radius: 50%;\n",
              "        cursor: pointer;\n",
              "        display: none;\n",
              "        fill: #1967D2;\n",
              "        height: 32px;\n",
              "        padding: 0 0 0 0;\n",
              "        width: 32px;\n",
              "      }\n",
              "\n",
              "      .colab-df-generate:hover {\n",
              "        background-color: #E2EBFA;\n",
              "        box-shadow: 0px 1px 2px rgba(60, 64, 67, 0.3), 0px 1px 3px 1px rgba(60, 64, 67, 0.15);\n",
              "        fill: #174EA6;\n",
              "      }\n",
              "\n",
              "      [theme=dark] .colab-df-generate {\n",
              "        background-color: #3B4455;\n",
              "        fill: #D2E3FC;\n",
              "      }\n",
              "\n",
              "      [theme=dark] .colab-df-generate:hover {\n",
              "        background-color: #434B5C;\n",
              "        box-shadow: 0px 1px 3px 1px rgba(0, 0, 0, 0.15);\n",
              "        filter: drop-shadow(0px 1px 2px rgba(0, 0, 0, 0.3));\n",
              "        fill: #FFFFFF;\n",
              "      }\n",
              "    </style>\n",
              "    <button class=\"colab-df-generate\" onclick=\"generateWithVariable('df')\"\n",
              "            title=\"Generate code using this dataframe.\"\n",
              "            style=\"display:none;\">\n",
              "\n",
              "  <svg xmlns=\"http://www.w3.org/2000/svg\" height=\"24px\"viewBox=\"0 0 24 24\"\n",
              "       width=\"24px\">\n",
              "    <path d=\"M7,19H8.4L18.45,9,17,7.55,7,17.6ZM5,21V16.75L18.45,3.32a2,2,0,0,1,2.83,0l1.4,1.43a1.91,1.91,0,0,1,.58,1.4,1.91,1.91,0,0,1-.58,1.4L9.25,21ZM18.45,9,17,7.55Zm-12,3A5.31,5.31,0,0,0,4.9,8.1,5.31,5.31,0,0,0,1,6.5,5.31,5.31,0,0,0,4.9,4.9,5.31,5.31,0,0,0,6.5,1,5.31,5.31,0,0,0,8.1,4.9,5.31,5.31,0,0,0,12,6.5,5.46,5.46,0,0,0,6.5,12Z\"/>\n",
              "  </svg>\n",
              "    </button>\n",
              "    <script>\n",
              "      (() => {\n",
              "      const buttonEl =\n",
              "        document.querySelector('#id_578e823c-c4dd-4d21-95bd-002de5adeb07 button.colab-df-generate');\n",
              "      buttonEl.style.display =\n",
              "        google.colab.kernel.accessAllowed ? 'block' : 'none';\n",
              "\n",
              "      buttonEl.onclick = () => {\n",
              "        google.colab.notebook.generateWithVariable('df');\n",
              "      }\n",
              "      })();\n",
              "    </script>\n",
              "  </div>\n",
              "\n",
              "    </div>\n",
              "  </div>\n"
            ],
            "application/vnd.google.colaboratory.intrinsic+json": {
              "type": "dataframe",
              "variable_name": "df",
              "summary": "{\n  \"name\": \"df\",\n  \"rows\": 3276,\n  \"fields\": [\n    {\n      \"column\": \"ph\",\n      \"properties\": {\n        \"dtype\": \"number\",\n        \"std\": 1.4699559698465663,\n        \"min\": 0.0,\n        \"max\": 13.999999999999998,\n        \"num_unique_values\": 2786,\n        \"samples\": [\n          7.205218263646112,\n          9.271355446767778,\n          7.367371852627868\n        ],\n        \"semantic_type\": \"\",\n        \"description\": \"\"\n      }\n    },\n    {\n      \"column\": \"Hardness\",\n      \"properties\": {\n        \"dtype\": \"number\",\n        \"std\": 32.879761476294185,\n        \"min\": 47.432,\n        \"max\": 323.124,\n        \"num_unique_values\": 3276,\n        \"samples\": [\n          183.5211070261417,\n          188.9135411469536,\n          224.05887682392927\n        ],\n        \"semantic_type\": \"\",\n        \"description\": \"\"\n      }\n    },\n    {\n      \"column\": \"Solids\",\n      \"properties\": {\n        \"dtype\": \"number\",\n        \"std\": 8768.570827785932,\n        \"min\": 320.942611274359,\n        \"max\": 61227.19600771213,\n        \"num_unique_values\": 3276,\n        \"samples\": [\n          20461.252710219946,\n          32873.820021715685,\n          23264.10996772913\n        ],\n        \"semantic_type\": \"\",\n        \"description\": \"\"\n      }\n    },\n    {\n      \"column\": \"Chloramines\",\n      \"properties\": {\n        \"dtype\": \"number\",\n        \"std\": 1.58308488903971,\n        \"min\": 0.3520000000000003,\n        \"max\": 13.127000000000002,\n        \"num_unique_values\": 3276,\n        \"samples\": [\n          7.333212177578906,\n          6.791509363412849,\n          5.92236704115349\n        ],\n        \"semantic_type\": \"\",\n        \"description\": \"\"\n      }\n    },\n    {\n      \"column\": \"Sulfate\",\n      \"properties\": {\n        \"dtype\": \"number\",\n        \"std\": 36.14261216633988,\n        \"min\": 129.00000000000003,\n        \"max\": 481.0306423059972,\n        \"num_unique_values\": 2496,\n        \"samples\": [\n          324.64407957923544,\n          241.12629768934127,\n          295.83415090035123\n        ],\n        \"semantic_type\": \"\",\n        \"description\": \"\"\n      }\n    },\n    {\n      \"column\": \"Conductivity\",\n      \"properties\": {\n        \"dtype\": \"number\",\n        \"std\": 80.82406405111182,\n        \"min\": 181.483753985146,\n        \"max\": 753.3426195583046,\n        \"num_unique_values\": 3276,\n        \"samples\": [\n          356.3690224100897,\n          336.56150104700754,\n          387.971335796834\n        ],\n        \"semantic_type\": \"\",\n        \"description\": \"\"\n      }\n    },\n    {\n      \"column\": \"Organic_carbon\",\n      \"properties\": {\n        \"dtype\": \"number\",\n        \"std\": 3.308161999126868,\n        \"min\": 2.1999999999999886,\n        \"max\": 28.30000000000001,\n        \"num_unique_values\": 3276,\n        \"samples\": [\n          20.179028868493845,\n          14.706810313722087,\n          13.40673745495127\n        ],\n        \"semantic_type\": \"\",\n        \"description\": \"\"\n      }\n    },\n    {\n      \"column\": \"Trihalomethanes\",\n      \"properties\": {\n        \"dtype\": \"number\",\n        \"std\": 15.769881272715322,\n        \"min\": 0.7379999999999995,\n        \"max\": 124.0,\n        \"num_unique_values\": 3115,\n        \"samples\": [\n          75.33302516708788,\n          73.16477754804393,\n          64.84690478735237\n        ],\n        \"semantic_type\": \"\",\n        \"description\": \"\"\n      }\n    },\n    {\n      \"column\": \"Turbidity\",\n      \"properties\": {\n        \"dtype\": \"number\",\n        \"std\": 0.7803824084854116,\n        \"min\": 1.45,\n        \"max\": 6.739,\n        \"num_unique_values\": 3276,\n        \"samples\": [\n          4.886633785371213,\n          4.562197671215202,\n          2.487968647002356\n        ],\n        \"semantic_type\": \"\",\n        \"description\": \"\"\n      }\n    },\n    {\n      \"column\": \"Potability\",\n      \"properties\": {\n        \"dtype\": \"number\",\n        \"std\": 0,\n        \"min\": 0,\n        \"max\": 1,\n        \"num_unique_values\": 2,\n        \"samples\": [\n          1,\n          0\n        ],\n        \"semantic_type\": \"\",\n        \"description\": \"\"\n      }\n    }\n  ]\n}"
            }
          },
          "metadata": {},
          "execution_count": 7
        }
      ]
    },
    {
      "cell_type": "code",
      "source": [
        "X=df[['ph','Hardness','Solids','Chloramines','Sulfate','Conductivity','Organic_carbon','Trihalomethanes','Turbidity']]\n",
        "Y=df['Potability']"
      ],
      "metadata": {
        "id": "J_jtbHPtvUDL"
      },
      "id": "J_jtbHPtvUDL",
      "execution_count": 8,
      "outputs": []
    },
    {
      "cell_type": "markdown",
      "source": [
        "<font size=\"6\" face=\"Times New Roman\" color=\"red\"><b>Standardization</b></font>\n",
        "\n",
        "* from sklearn.preprocessing import StandardScaler\n",
        "* scaler=StandardScaler()\n",
        "* fit only on training data\n",
        "* scaler.fit(X_train)\n",
        "* X_train=scaler.fit_transform(X_train)\n",
        "* apply same transformation to test data\n",
        "* X_test=sc_X.transform(X_test)\n",
        "* result will be from 0 to 1 or from -1 to +1\n",
        "* X_train"
      ],
      "metadata": {
        "id": "Br077coRv66D"
      },
      "id": "Br077coRv66D"
    },
    {
      "cell_type": "markdown",
      "id": "fb513f00",
      "metadata": {
        "id": "fb513f00"
      },
      "source": [
        "<font size=\"6\" face=\"Times New Roman\" color=\"red\"><b>Normalization</b></font>"
      ]
    },
    {
      "cell_type": "code",
      "execution_count": 9,
      "id": "209d4afd",
      "metadata": {
        "id": "209d4afd"
      },
      "outputs": [],
      "source": [
        "X_train, X_test, y_train, y_test = train_test_split(X, Y,test_size=0.2, random_state=7)\n",
        "\n",
        "from sklearn.preprocessing import MinMaxScaler\n",
        "sc_X=MinMaxScaler()\n",
        "X_train=sc_X.fit_transform(X_train)\n",
        "X_test=sc_X.transform(X_test)\n",
        "#X_train #result is between 0 and 1\n"
      ]
    },
    {
      "cell_type": "markdown",
      "id": "ec49579e",
      "metadata": {
        "id": "ec49579e"
      },
      "source": [
        "<h1><font size=25, face='Times New Roman'>1. Support Vector Machine</font></h1>"
      ]
    },
    {
      "cell_type": "code",
      "execution_count": 10,
      "id": "b6e419dc",
      "metadata": {
        "id": "b6e419dc",
        "outputId": "1b691a74-4634-462d-a2be-67fff4144917",
        "colab": {
          "base_uri": "https://localhost:8080/"
        }
      },
      "outputs": [
        {
          "output_type": "stream",
          "name": "stdout",
          "text": [
            "\n",
            "****************************************************************\n",
            "\n",
            "Accuracy                     :  61.12804878048781 %\n",
            "Precision / 1-Sensitivity    :  52.94117647058824 %\n",
            "Recall / Sensitivity         :  43.656716417910445 %\n",
            "F1 Score                     :  47.85276073619632 %\n",
            "________________________________________________________________\n",
            "\n",
            "Confusion Matrix\n",
            "\n",
            " [[284 104]\n",
            " [151 117]]\n",
            "\n",
            "****************************************************************\n"
          ]
        }
      ],
      "source": [
        "#gamma='auto', kernel='rbf'\n",
        "svm_classifier=SVC(C=100, random_state=0)\n",
        "svm_classifier.fit(X_train,y_train)\n",
        "svm_pred=svm_classifier.predict(X_test)\n",
        "\n",
        "print('\\n****************************************************************\\n')\n",
        "print('Accuracy                     : ',accuracy_score(y_test,svm_pred)*100,'%')\n",
        "print('Precision / 1-Sensitivity    : ',precision_score(y_test,svm_pred)*100,'%')\n",
        "print('Recall / Sensitivity         : ',recall_score(y_test,svm_pred)*100,'%')\n",
        "print('F1 Score                     : ',f1_score(y_test,svm_pred)*100,'%')\n",
        "print('________________________________________________________________\\n')\n",
        "print('Confusion Matrix\\n')\n",
        "print('',confusion_matrix(y_test,svm_pred))\n",
        "print('\\n****************************************************************')"
      ]
    },
    {
      "cell_type": "markdown",
      "id": "9effd77c",
      "metadata": {
        "id": "9effd77c"
      },
      "source": [
        "<font size=20, face='Times New Roman'>K-Fold-SVM</font>"
      ]
    },
    {
      "cell_type": "code",
      "execution_count": 11,
      "id": "d798d8ee",
      "metadata": {
        "id": "d798d8ee",
        "outputId": "4a351eb3-52bf-4b2e-8e02-40f306ba43cc",
        "colab": {
          "base_uri": "https://localhost:8080/"
        }
      },
      "outputs": [
        {
          "output_type": "stream",
          "name": "stdout",
          "text": [
            "Average :  54.130536130536136 %\n"
          ]
        }
      ],
      "source": [
        "svm_pred=cross_val_predict(svm_classifier,X_test, y_test)\n",
        "\n",
        "#change the value of cv to see the change\n",
        "scores_test=cross_val_score(svm_classifier,X_test, y_test, cv=10)\n",
        "print(\"Average : \",np.mean(scores_test)*100,'%')"
      ]
    },
    {
      "cell_type": "markdown",
      "id": "0c91c375",
      "metadata": {
        "id": "0c91c375"
      },
      "source": [
        "#"
      ]
    },
    {
      "cell_type": "markdown",
      "id": "317aad9d",
      "metadata": {
        "id": "317aad9d"
      },
      "source": [
        "<h1><font size=25, face='Times New Roman'>2. Decision Tree</font></h1>"
      ]
    },
    {
      "cell_type": "code",
      "execution_count": 12,
      "id": "fb28e1f0",
      "metadata": {
        "id": "fb28e1f0",
        "outputId": "2cefb590-7a43-4722-93c3-05b0ee500c31",
        "colab": {
          "base_uri": "https://localhost:8080/"
        }
      },
      "outputs": [
        {
          "output_type": "stream",
          "name": "stdout",
          "text": [
            "\n",
            "****************************************************************\n",
            "\n",
            "Accuracy                     :  56.40243902439024 %\n",
            "Precision / 1-Sensitivity    :  46.53846153846154 %\n",
            "Recall / Sensitivity         :  45.149253731343286 %\n",
            "F1 Score                     :  45.83333333333333 %\n",
            "________________________________________________________________\n",
            "\n",
            "Confusion Matrix\n",
            "\n",
            " [[249 139]\n",
            " [147 121]]\n",
            "\n",
            "****************************************************************\n"
          ]
        }
      ],
      "source": [
        "#X_train, X_test, y_train, y_test = train_test_split(X, Y,test_size=0.2, random_state=5)\n",
        "#max_leaf_nodes=8,criterion='entropy', max_depth=10, max_features=9, min_samples_split= 2\n",
        "\n",
        "dt_classifier=DecisionTreeClassifier(random_state=0)\n",
        "dt_classifier.fit(X_train,y_train)\n",
        "dt_pred=dt_classifier.predict(X_test)\n",
        "\n",
        "print('\\n****************************************************************\\n')\n",
        "print('Accuracy                     : ',accuracy_score(y_test,dt_pred)*100,'%')\n",
        "print('Precision / 1-Sensitivity    : ',precision_score(y_test,dt_pred)*100,'%')\n",
        "print('Recall / Sensitivity         : ',recall_score(y_test,dt_pred)*100,'%')\n",
        "print('F1 Score                     : ',f1_score(y_test,dt_pred)*100,'%')\n",
        "print('________________________________________________________________\\n')\n",
        "print('Confusion Matrix\\n')\n",
        "print('',confusion_matrix(y_test,dt_pred))\n",
        "print('\\n****************************************************************')"
      ]
    },
    {
      "cell_type": "markdown",
      "id": "628f809c",
      "metadata": {
        "id": "628f809c"
      },
      "source": [
        "<font size=20, face='Times New Roman'>K-Fold-DT</font>"
      ]
    },
    {
      "cell_type": "code",
      "execution_count": 13,
      "id": "fc19c124",
      "metadata": {
        "id": "fc19c124",
        "outputId": "59b4fd73-ce77-4ff1-a316-21b7d39b4a26",
        "colab": {
          "base_uri": "https://localhost:8080/"
        }
      },
      "outputs": [
        {
          "output_type": "stream",
          "name": "stdout",
          "text": [
            "Average :  56.43822843822844 %\n"
          ]
        }
      ],
      "source": [
        "\n",
        "dt_pred=cross_val_predict(dt_classifier,X_test, y_test)\n",
        "scores_test=cross_val_score(dt_classifier,X_test, y_test, cv=10)\n",
        "print(\"Average : \",np.mean(scores_test)*100,'%')"
      ]
    },
    {
      "cell_type": "markdown",
      "id": "0a217f30",
      "metadata": {
        "id": "0a217f30"
      },
      "source": [
        "#"
      ]
    },
    {
      "cell_type": "markdown",
      "id": "9b013035",
      "metadata": {
        "id": "9b013035"
      },
      "source": [
        "<h1><font size=25, face='Times New Roman'>3. Sequential Neural Network</font></h1>"
      ]
    },
    {
      "cell_type": "code",
      "execution_count": 14,
      "id": "814cda71",
      "metadata": {
        "id": "814cda71",
        "outputId": "95881f67-088b-41ce-814c-fe2cb19de35c",
        "colab": {
          "base_uri": "https://localhost:8080/",
          "height": 561
        }
      },
      "outputs": [
        {
          "output_type": "stream",
          "name": "stderr",
          "text": [
            "/usr/local/lib/python3.11/dist-packages/keras/src/layers/core/dense.py:87: UserWarning: Do not pass an `input_shape`/`input_dim` argument to a layer. When using Sequential models, prefer using an `Input(shape)` object as the first layer in the model instead.\n",
            "  super().__init__(activity_regularizer=activity_regularizer, **kwargs)\n"
          ]
        },
        {
          "output_type": "stream",
          "name": "stdout",
          "text": [
            "\u001b[1m21/21\u001b[0m \u001b[32m━━━━━━━━━━━━━━━━━━━━\u001b[0m\u001b[37m\u001b[0m \u001b[1m0s\u001b[0m 3ms/step - Accuracy: 0.6515 - MAE: 0.4207 - loss: 0.2268  \n"
          ]
        },
        {
          "output_type": "execute_result",
          "data": {
            "text/plain": [
              "[<matplotlib.lines.Line2D at 0x7833a37253d0>]"
            ]
          },
          "metadata": {},
          "execution_count": 14
        },
        {
          "output_type": "display_data",
          "data": {
            "text/plain": [
              "<Figure size 640x480 with 1 Axes>"
            ],
            "image/png": "[encoded data removed]"
          },
          "metadata": {}
        }
      ],
      "source": [
        "mod_sq=Sequential()\n",
        "mod_sq.add(Dense(200,input_dim=9,activation='relu'))\n",
        "mod_sq.add(Dense(200,input_dim=200,activation='relu'))\n",
        "mod_sq.add(Dense(1,activation='sigmoid'))\n",
        "\n",
        "mod_sq.compile(loss='mse', optimizer='adam', metrics=['Accuracy','MAE'])\n",
        "history=mod_sq.fit(X_train, y_train, epochs=50, verbose=0)\n",
        "mod_sq.evaluate(X_test, y_test)\n",
        "\n",
        "plt.xlabel('Epochs')\n",
        "plt.ylabel('Mean_Absolute_Error')\n",
        "plt.title('Sequential Neural Network')\n",
        "plt.plot(history.history['MAE'])"
      ]
    },
    {
      "cell_type": "code",
      "execution_count": 15,
      "id": "42e6e9ad",
      "metadata": {
        "id": "42e6e9ad",
        "outputId": "6d5122f2-ae39-49cc-cd49-564abd355448",
        "colab": {
          "base_uri": "https://localhost:8080/"
        }
      },
      "outputs": [
        {
          "output_type": "stream",
          "name": "stdout",
          "text": [
            "\u001b[1m21/21\u001b[0m \u001b[32m━━━━━━━━━━━━━━━━━━━━\u001b[0m\u001b[37m\u001b[0m \u001b[1m0s\u001b[0m 4ms/step\n",
            "Precision       :  68.29268292682927 %\n",
            "Recall          :  31.343283582089555 %\n",
            "F1 Score        :  42.96675191815857 %\n"
          ]
        }
      ],
      "source": [
        "predictions=mod_sq.predict(X_test)\n",
        "sq_pred = (predictions > 0.5)\n",
        "confusion_matrix(y_test, sq_pred)\n",
        "print('Precision       : ',precision_score(y_test, sq_pred)*100,'%')\n",
        "print('Recall          : ',recall_score(y_test, sq_pred)*100,'%')\n",
        "print('F1 Score        : ',f1_score(y_test, sq_pred)*100,'%')"
      ]
    },
    {
      "cell_type": "code",
      "execution_count": 16,
      "id": "5f256be4",
      "metadata": {
        "id": "5f256be4",
        "outputId": "616632b5-6fc2-4726-a721-5c7e6458d727",
        "colab": {
          "base_uri": "https://localhost:8080/"
        }
      },
      "outputs": [
        {
          "output_type": "stream",
          "name": "stdout",
          "text": [
            "Cofusion Matrix\n",
            " [[349  39]\n",
            " [184  84]]\n"
          ]
        }
      ],
      "source": [
        "cm=confusion_matrix(y_test, sq_pred)\n",
        "print('Cofusion Matrix\\n',cm)"
      ]
    },
    {
      "cell_type": "code",
      "execution_count": null,
      "id": "84b997d5",
      "metadata": {
        "id": "84b997d5"
      },
      "outputs": [],
      "source": [
        "#keras.backend.clear_session()"
      ]
    },
    {
      "cell_type": "markdown",
      "id": "8e27fd77",
      "metadata": {
        "id": "8e27fd77"
      },
      "source": [
        "#"
      ]
    },
    {
      "cell_type": "markdown",
      "id": "dd8ab5a6",
      "metadata": {
        "id": "dd8ab5a6"
      },
      "source": [
        "<font size=20, face='Times New Roman'>4. MLPC</font>"
      ]
    },
    {
      "cell_type": "code",
      "execution_count": 17,
      "id": "7d5516f3",
      "metadata": {
        "id": "7d5516f3",
        "outputId": "82fa24f0-6f18-4c83-d055-308b2181c66f",
        "colab": {
          "base_uri": "https://localhost:8080/"
        }
      },
      "outputs": [
        {
          "output_type": "stream",
          "name": "stdout",
          "text": [
            "Accuracy                     :  46.79878048780488 %\n",
            "Precision / 1-Sensitivity    :  37.30407523510972 %\n",
            "Recall / Sensitivity         :  44.40298507462687 %\n",
            "F1 Score                     :  40.54514480408859 %\n",
            "________________________________________________________________\n",
            "\n",
            "Confusion Matrix\n",
            "\n",
            " [[188 200]\n",
            " [149 119]]\n",
            "\n",
            "****************************************************************\n"
          ]
        }
      ],
      "source": [
        "#NN MLPC\n",
        "X_train, X_test, y_train, y_test = train_test_split(X, Y,test_size=0.2, random_state=7)\n",
        "\n",
        "mod_nn=MLPClassifier(solver='adam', alpha=1e-5,hidden_layer_sizes=(5), random_state=0)\n",
        "mod_nn.fit(X_train, y_train)\n",
        "nn_pred1=mod_nn.predict(X_test)\n",
        "print('Accuracy                     : ',accuracy_score(y_test,nn_pred1)*100,'%')\n",
        "print('Precision / 1-Sensitivity    : ',precision_score(y_test,nn_pred1)*100,'%')\n",
        "print('Recall / Sensitivity         : ',recall_score(y_test,nn_pred1)*100,'%')\n",
        "print('F1 Score                     : ',f1_score(y_test,nn_pred1)*100,'%')\n",
        "print('________________________________________________________________\\n')\n",
        "print('Confusion Matrix\\n')\n",
        "print('',confusion_matrix(y_test,nn_pred1))\n",
        "print('\\n****************************************************************')"
      ]
    },
    {
      "cell_type": "markdown",
      "id": "59c4fd99",
      "metadata": {
        "id": "59c4fd99"
      },
      "source": [
        "<font size=20, face='Times New Roman'>K-Fold-MLPC</font>"
      ]
    },
    {
      "cell_type": "code",
      "execution_count": 18,
      "id": "e1f71433",
      "metadata": {
        "id": "e1f71433",
        "outputId": "7debfbf5-12c0-40cb-f4f7-b8ecaa93d7c8",
        "colab": {
          "base_uri": "https://localhost:8080/"
        }
      },
      "outputs": [
        {
          "output_type": "stream",
          "name": "stdout",
          "text": [
            "Average :  58.99533799533799 %\n"
          ]
        }
      ],
      "source": [
        "nn_pred=cross_val_predict(mod_nn,X_test,y_test)\n",
        "scores_test=cross_val_score(mod_nn,X_test, y_test, cv=10)\n",
        "print(\"Average : \",np.mean(scores_test)*100,'%')\n"
      ]
    },
    {
      "cell_type": "markdown",
      "id": "8892a1dc",
      "metadata": {
        "id": "8892a1dc"
      },
      "source": [
        "<h1><font size=25, face='Times New Roman'>3. Naive Bayes</font></h1>"
      ]
    },
    {
      "cell_type": "code",
      "execution_count": 19,
      "id": "8a1e2aef",
      "metadata": {
        "id": "8a1e2aef",
        "outputId": "fd882922-ffa9-434f-e6cc-f939eb2744fa",
        "colab": {
          "base_uri": "https://localhost:8080/"
        }
      },
      "outputs": [
        {
          "output_type": "stream",
          "name": "stdout",
          "text": [
            "\n",
            "****************************************************************\n",
            "\n",
            "Accuracy                     :  53.20121951219512 %\n",
            "Precision / 1-Sensitivity    :  43.521594684385384 %\n",
            "Recall / Sensitivity         :  48.88059701492538 %\n",
            "F1 Score                     :  46.04569420035149 %\n",
            "________________________________________________________________\n",
            "\n",
            "Confusion Matrix\n",
            "\n",
            " [[218 170]\n",
            " [137 131]]\n",
            "\n",
            "****************************************************************\n"
          ]
        }
      ],
      "source": [
        "X_train, X_test, y_train, y_test = train_test_split(X, Y,test_size=0.2, random_state=7)\n",
        "\n",
        "nb_classifier=MultinomialNB()\n",
        "nb_classifier.fit(X_train,y_train)\n",
        "nb_pred=nb_classifier.predict(X_test)\n",
        "print('\\n****************************************************************\\n')\n",
        "print('Accuracy                     : ',accuracy_score(y_test,nb_pred)*100,'%')\n",
        "print('Precision / 1-Sensitivity    : ',precision_score(y_test,nb_pred)*100,'%')\n",
        "print('Recall / Sensitivity         : ',recall_score(y_test,nb_pred)*100,'%')\n",
        "print('F1 Score                     : ',f1_score(y_test,nb_pred)*100,'%')\n",
        "print('________________________________________________________________\\n')\n",
        "print('Confusion Matrix\\n')\n",
        "print('',confusion_matrix(y_test,nb_pred))\n",
        "print('\\n****************************************************************')"
      ]
    },
    {
      "cell_type": "markdown",
      "id": "bc124ec6",
      "metadata": {
        "id": "bc124ec6"
      },
      "source": [
        "<font size=20, face='Times New Roman'>K-Fold-NB</font>"
      ]
    },
    {
      "cell_type": "code",
      "execution_count": 20,
      "id": "d6a59a1d",
      "metadata": {
        "id": "d6a59a1d",
        "outputId": "859e5716-fa39-4530-8f8d-6151cc470dd5",
        "colab": {
          "base_uri": "https://localhost:8080/"
        }
      },
      "outputs": [
        {
          "output_type": "stream",
          "name": "stdout",
          "text": [
            "Average :  53.993006993007 %\n"
          ]
        }
      ],
      "source": [
        "\n",
        "nb_pred=cross_val_predict(nb_classifier,X_test, y_test)\n",
        "scores_test=cross_val_score(nb_classifier,X_test, y_test, cv=10)\n",
        "print(\"Average : \",np.mean(scores_test)*100,'%')"
      ]
    }
  ],
  "metadata": {
    "kernelspec": {
      "display_name": "Python 3 (ipykernel)",
      "language": "python",
      "name": "python3"
    },
    "language_info": {
      "codemirror_mode": {
        "name": "ipython",
        "version": 3
      },
      "file_extension": ".py",
      "mimetype": "text/x-python",
      "name": "python",
      "nbconvert_exporter": "python",
      "pygments_lexer": "ipython3",
      "version": "3.10.9"
    },
    "colab": {
      "provenance": [],
      "include_colab_link": true
    }
  },
  "nbformat": 4,
  "nbformat_minor": 5
}