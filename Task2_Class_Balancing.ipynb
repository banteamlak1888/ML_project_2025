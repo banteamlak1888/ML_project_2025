{
  "cells": [
    {
      "cell_type": "markdown",
      "metadata": {
        "id": "view-in-github",
        "colab_type": "text"
      },
      "source": [
        "<a href=\"https://colab.research.google.com/github/banteamlak1888/ML_project_2025/blob/main/Task2_Class_Balancing.ipynb\" target=\"_parent\"><img src=\"https://colab.research.google.com/assets/colab-badge.svg\" alt=\"Open In Colab\"/></a>"
      ]
    },
    {
      "cell_type": "markdown",
      "id": "d10ab136",
      "metadata": {
        "id": "d10ab136"
      },
      "source": [
        "# **<font size=25, face='Times New Roman'>Random Over Sampling</font>**"
      ]
    },
    {
      "cell_type": "code",
      "execution_count": 8,
      "id": "a76b7aa9",
      "metadata": {
        "colab": {
          "base_uri": "https://localhost:8080/"
        },
        "id": "a76b7aa9",
        "outputId": "aa37e6af-fd9f-482f-9961-ffab55d6ad26",
        "collapsed": true
      },
      "outputs": [
        {
          "output_type": "stream",
          "name": "stdout",
          "text": [
            "Requirement already satisfied: imblearn in /usr/local/lib/python3.11/dist-packages (0.0)\n",
            "Requirement already satisfied: imbalanced-learn in /usr/local/lib/python3.11/dist-packages (from imblearn) (0.13.0)\n",
            "Requirement already satisfied: numpy<3,>=1.24.3 in /usr/local/lib/python3.11/dist-packages (from imbalanced-learn->imblearn) (2.0.2)\n",
            "Requirement already satisfied: scipy<2,>=1.10.1 in /usr/local/lib/python3.11/dist-packages (from imbalanced-learn->imblearn) (1.14.1)\n",
            "Requirement already satisfied: scikit-learn<2,>=1.3.2 in /usr/local/lib/python3.11/dist-packages (from imbalanced-learn->imblearn) (1.6.1)\n",
            "Requirement already satisfied: sklearn-compat<1,>=0.1 in /usr/local/lib/python3.11/dist-packages (from imbalanced-learn->imblearn) (0.1.3)\n",
            "Requirement already satisfied: joblib<2,>=1.1.1 in /usr/local/lib/python3.11/dist-packages (from imbalanced-learn->imblearn) (1.4.2)\n",
            "Requirement already satisfied: threadpoolctl<4,>=2.0.0 in /usr/local/lib/python3.11/dist-packages (from imbalanced-learn->imblearn) (3.6.0)\n"
          ]
        },
        {
          "output_type": "execute_result",
          "data": {
            "text/plain": [
              "(3276, 10)"
            ]
          },
          "metadata": {},
          "execution_count": 8
        }
      ],
      "source": [
        "!pip install imblearn\n",
        "from imblearn.over_sampling import RandomOverSampler\n",
        "import pandas as pd\n",
        "df=pd.read_csv('T2_Filled_data_water_potability.csv')\n",
        "df.shape"
      ]
    },
    {
      "cell_type": "code",
      "execution_count": 10,
      "id": "fa36c4a1",
      "metadata": {
        "id": "fa36c4a1"
      },
      "outputs": [],
      "source": [
        "X=df[['ph','Hardness','Solids','Chloramines','Sulfate','Conductivity','Organic_carbon','Trihalomethanes','Turbidity']]\n",
        "Y=df['Potability']"
      ]
    },
    {
      "cell_type": "markdown",
      "id": "0969bf80",
      "metadata": {
        "id": "0969bf80"
      },
      "source": [
        "#"
      ]
    },
    {
      "cell_type": "markdown",
      "id": "6c3bd97a",
      "metadata": {
        "id": "6c3bd97a"
      },
      "source": [
        "<font size=\"8\" face=\"Times New Roman\" color=\"red\"><b>Before Sampling</b></font>\n"
      ]
    },
    {
      "cell_type": "code",
      "source": [
        "df.value_counts('Potability')"
      ],
      "metadata": {
        "colab": {
          "base_uri": "https://localhost:8080/",
          "height": 178
        },
        "id": "zcwqdw7YjAkN",
        "outputId": "5addf326-86b9-470a-ecbe-6620c10a1b70"
      },
      "id": "zcwqdw7YjAkN",
      "execution_count": 23,
      "outputs": [
        {
          "output_type": "execute_result",
          "data": {
            "text/plain": [
              "Potability\n",
              "0    1998\n",
              "1    1278\n",
              "Name: count, dtype: int64"
            ],
            "text/html": [
              "<div>\n",
              "<style scoped>\n",
              "    .dataframe tbody tr th:only-of-type {\n",
              "        vertical-align: middle;\n",
              "    }\n",
              "\n",
              "    .dataframe tbody tr th {\n",
              "        vertical-align: top;\n",
              "    }\n",
              "\n",
              "    .dataframe thead th {\n",
              "        text-align: right;\n",
              "    }\n",
              "</style>\n",
              "<table border=\"1\" class=\"dataframe\">\n",
              "  <thead>\n",
              "    <tr style=\"text-align: right;\">\n",
              "      <th></th>\n",
              "      <th>count</th>\n",
              "    </tr>\n",
              "    <tr>\n",
              "      <th>Potability</th>\n",
              "      <th></th>\n",
              "    </tr>\n",
              "  </thead>\n",
              "  <tbody>\n",
              "    <tr>\n",
              "      <th>0</th>\n",
              "      <td>1998</td>\n",
              "    </tr>\n",
              "    <tr>\n",
              "      <th>1</th>\n",
              "      <td>1278</td>\n",
              "    </tr>\n",
              "  </tbody>\n",
              "</table>\n",
              "</div><br><label><b>dtype:</b> int64</label>"
            ]
          },
          "metadata": {},
          "execution_count": 23
        }
      ]
    },
    {
      "cell_type": "code",
      "execution_count": 11,
      "id": "abbaaad0",
      "metadata": {
        "colab": {
          "base_uri": "https://localhost:8080/",
          "height": 445
        },
        "id": "abbaaad0",
        "outputId": "e84a26f3-eb88-4936-df95-79c6ce798673"
      },
      "outputs": [
        {
          "output_type": "execute_result",
          "data": {
            "text/plain": [
              "Text(0.5, 1.0, 'Original Data')"
            ]
          },
          "metadata": {},
          "execution_count": 11
        },
        {
          "output_type": "display_data",
          "data": {
            "text/plain": [
              "<Figure size 640x480 with 1 Axes>"
            ],
            "image/png": "[encoded data removed]"
          },
          "metadata": {}
        }
      ],
      "source": [
        "resampled=Y.value_counts().plot.pie(autopct='%.2f')\n",
        "resampled.set_title('Original Data')"
      ]
    },
    {
      "cell_type": "markdown",
      "id": "284d9dd6",
      "metadata": {
        "id": "284d9dd6"
      },
      "source": [
        "#"
      ]
    },
    {
      "cell_type": "markdown",
      "id": "6f0cf046",
      "metadata": {
        "id": "6f0cf046"
      },
      "source": [
        "<font size=\"8\" face=\"Times New Roman\" color=\"red\"><b>After Sampling</b></font>\n"
      ]
    },
    {
      "cell_type": "code",
      "execution_count": 12,
      "id": "71d6922d",
      "metadata": {
        "id": "71d6922d"
      },
      "outputs": [],
      "source": [
        "\n",
        "from imblearn.over_sampling import RandomOverSampler\n",
        "ros = RandomOverSampler(sampling_strategy='not majority',random_state=0)\n",
        "X_resampled, Y_resampled = ros.fit_resample(X,Y)"
      ]
    },
    {
      "cell_type": "code",
      "execution_count": 19,
      "id": "fbb94802",
      "metadata": {
        "colab": {
          "base_uri": "https://localhost:8080/",
          "height": 178
        },
        "id": "fbb94802",
        "outputId": "7ce51bd9-2918-405b-92ae-205578a9ef11"
      },
      "outputs": [
        {
          "output_type": "execute_result",
          "data": {
            "text/plain": [
              "Potability\n",
              "0    1998\n",
              "1    1998\n",
              "Name: count, dtype: int64"
            ],
            "text/html": [
              "<div>\n",
              "<style scoped>\n",
              "    .dataframe tbody tr th:only-of-type {\n",
              "        vertical-align: middle;\n",
              "    }\n",
              "\n",
              "    .dataframe tbody tr th {\n",
              "        vertical-align: top;\n",
              "    }\n",
              "\n",
              "    .dataframe thead th {\n",
              "        text-align: right;\n",
              "    }\n",
              "</style>\n",
              "<table border=\"1\" class=\"dataframe\">\n",
              "  <thead>\n",
              "    <tr style=\"text-align: right;\">\n",
              "      <th></th>\n",
              "      <th>count</th>\n",
              "    </tr>\n",
              "    <tr>\n",
              "      <th>Potability</th>\n",
              "      <th></th>\n",
              "    </tr>\n",
              "  </thead>\n",
              "  <tbody>\n",
              "    <tr>\n",
              "      <th>0</th>\n",
              "      <td>1998</td>\n",
              "    </tr>\n",
              "    <tr>\n",
              "      <th>1</th>\n",
              "      <td>1998</td>\n",
              "    </tr>\n",
              "  </tbody>\n",
              "</table>\n",
              "</div><br><label><b>dtype:</b> int64</label>"
            ]
          },
          "metadata": {},
          "execution_count": 19
        }
      ],
      "source": [
        "balanced_df=Y_resampled.value_counts()\n",
        "balanced_df"
      ]
    },
    {
      "cell_type": "code",
      "execution_count": 20,
      "id": "6dabf282",
      "metadata": {
        "id": "6dabf282",
        "outputId": "c06b148d-3f8d-465b-ce9c-76f275674e1c",
        "colab": {
          "base_uri": "https://localhost:8080/",
          "height": 445
        }
      },
      "outputs": [
        {
          "output_type": "execute_result",
          "data": {
            "text/plain": [
              "Text(0.5, 1.0, 'Over Sampling')"
            ]
          },
          "metadata": {},
          "execution_count": 20
        },
        {
          "output_type": "display_data",
          "data": {
            "text/plain": [
              "<Figure size 640x480 with 1 Axes>"
            ],
            "image/png": "[encoded data removed]"
          },
          "metadata": {}
        }
      ],
      "source": [
        "balanced_df=Y_resampled.value_counts().plot.pie(autopct='%.2f')\n",
        "balanced_df.set_title('Over Sampling')"
      ]
    },
    {
      "cell_type": "markdown",
      "id": "5a808e1f",
      "metadata": {
        "id": "5a808e1f"
      },
      "source": [
        "#"
      ]
    },
    {
      "cell_type": "code",
      "source": [
        "Y_resampled.value_counts().to_csv('T3_Balanced_Dataset_water_potability.csv', index=False)"
      ],
      "metadata": {
        "id": "QLLCrAeXhnYs"
      },
      "id": "QLLCrAeXhnYs",
      "execution_count": 22,
      "outputs": []
    },
    {
      "cell_type": "markdown",
      "id": "6cff6a17",
      "metadata": {
        "id": "6cff6a17"
      },
      "source": [
        "#"
      ]
    },
    {
      "cell_type": "markdown",
      "id": "56543b81",
      "metadata": {
        "id": "56543b81"
      },
      "source": [
        "# <font size=25, face='Times New Roman'>Import Packeges</font>"
      ]
    },
    {
      "cell_type": "code",
      "execution_count": null,
      "id": "a10b60da",
      "metadata": {
        "id": "a10b60da"
      },
      "outputs": [],
      "source": [
        "import warnings\n",
        "warnings.filterwarnings(\"ignore\", category=FutureWarning)\n",
        "warnings.simplefilter('ignore', DeprecationWarning)\n",
        "warnings.simplefilter('ignore', RuntimeWarning)\n",
        "#warnings.simplefilter('ignore', ConvergenceWarning)\n",
        "\n",
        "\n",
        "import matplotlib.pyplot as plt\n",
        "import numpy as np\n",
        "import scipy.stats as stats\n",
        "df2=pd.read_csv('Balanced_Dataset.csv')"
      ]
    },
    {
      "cell_type": "code",
      "execution_count": null,
      "id": "5f20cfba",
      "metadata": {
        "id": "5f20cfba",
        "outputId": "c590989a-6b89-4b8e-cada-ce42cea65ccd"
      },
      "outputs": [
        {
          "data": {
            "text/plain": [
              "Unnamed: 0  Potability\n",
              "0           1998          1\n",
              "1           1998          1\n",
              "dtype: int64"
            ]
          },
          "execution_count": 224,
          "metadata": {},
          "output_type": "execute_result"
        }
      ],
      "source": [
        "df2.value_counts()"
      ]
    },
    {
      "cell_type": "markdown",
      "id": "df68ce5c",
      "metadata": {
        "id": "df68ce5c"
      },
      "source": [
        "#"
      ]
    },
    {
      "cell_type": "markdown",
      "id": "810da094",
      "metadata": {
        "id": "810da094"
      },
      "source": [
        "# <font size=25, face='Times New Roman'>Load Libraries</font>"
      ]
    },
    {
      "cell_type": "code",
      "execution_count": null,
      "id": "e0c98d47",
      "metadata": {
        "id": "e0c98d47"
      },
      "outputs": [],
      "source": [
        "from pandas.plotting import scatter_matrix\n",
        "from sklearn.model_selection import train_test_split\n",
        "from sklearn.model_selection import KFold\n",
        "from sklearn.model_selection import cross_val_score\n",
        "from sklearn.metrics import classification_report\n",
        "from sklearn.metrics import accuracy_score\n",
        "from sklearn.metrics import confusion_matrix\n",
        "from sklearn.svm import SVC\n",
        "from sklearn.linear_model import LogisticRegression\n",
        "from sklearn.ensemble import RandomForestClassifier\n",
        "from sklearn.neural_network import MLPClassifier\n",
        "from sklearn.tree import DecisionTreeClassifier\n",
        "#from sklearn.neighbors import KNeighborsClassifier"
      ]
    },
    {
      "cell_type": "markdown",
      "id": "d6295952",
      "metadata": {
        "id": "d6295952"
      },
      "source": [
        "#"
      ]
    },
    {
      "cell_type": "markdown",
      "id": "26eb182a",
      "metadata": {
        "id": "26eb182a"
      },
      "source": [
        "<font size=25, face='Times New Roman'>Machine Learning Models</font>"
      ]
    },
    {
      "cell_type": "code",
      "execution_count": null,
      "id": "754d78ee",
      "metadata": {
        "id": "754d78ee"
      },
      "outputs": [],
      "source": [
        "models = []\n",
        "models.append(('SVM', SVC(C=10, gamma=0.01, kernel='rbf')))\n",
        "models.append((\"RF\",RandomForestClassifier(max_features= 3, min_samples_leaf=4, min_samples_split=12, n_estimators= 300)))\n",
        "models.append((\"NN\",MLPClassifier(hidden_layer_sizes=(100,),activation= 'tanh', alpha= 0.05, learning_rate='adaptive', solver='sgd')))\n",
        "models.append(('LR',LogisticRegression(C=10,random_state = 0)))\n",
        "models.append(('DT', DecisionTreeClassifier(criterion='entropy', max_depth=6, max_features=15,min_samples_split= 2)))"
      ]
    },
    {
      "cell_type": "markdown",
      "id": "b0161bf2",
      "metadata": {
        "id": "b0161bf2"
      },
      "source": [
        "#"
      ]
    },
    {
      "cell_type": "markdown",
      "id": "3a4a157b",
      "metadata": {
        "id": "3a4a157b"
      },
      "source": [
        "<font size=25, face='Times New Roman'>Training and Testing</font>"
      ]
    },
    {
      "cell_type": "code",
      "execution_count": null,
      "id": "d0023a38",
      "metadata": {
        "id": "d0023a38"
      },
      "outputs": [],
      "source": [
        "X_train, X_test, y_train, y_test = train_test_split(X, Y,test_size=0.2, random_state=1)"
      ]
    },
    {
      "cell_type": "markdown",
      "id": "0923af39",
      "metadata": {
        "id": "0923af39"
      },
      "source": [
        "#"
      ]
    },
    {
      "cell_type": "markdown",
      "id": "b83603b7",
      "metadata": {
        "id": "b83603b7"
      },
      "source": [
        "<font size=20, face='Times New Roman'>Training</font>"
      ]
    },
    {
      "cell_type": "code",
      "execution_count": null,
      "id": "54952de3",
      "metadata": {
        "id": "54952de3",
        "outputId": "5ddff74a-8e56-46ea-c337-dd18999d5a33"
      },
      "outputs": [
        {
          "name": "stdout",
          "output_type": "stream",
          "text": [
            "SVM --------------------------------------------\n",
            "ACC: 1.0\n",
            "TPR: 1.0\n",
            "TNR: 1.0\n",
            "F1_Score: 1.0\n",
            "RF --------------------------------------------\n",
            "ACC: 0.95\n",
            "TPR: 0.88\n",
            "TNR: 1.0\n",
            "F1_Score: 0.93\n",
            "NN --------------------------------------------\n",
            "ACC: 0.62\n",
            "TPR: 0.0\n",
            "TNR: 1.0\n",
            "F1_Score: nan\n",
            "LR --------------------------------------------\n",
            "ACC: 0.62\n",
            "TPR: 0.0\n",
            "TNR: 1.0\n",
            "F1_Score: 0.0\n"
          ]
        },
        {
          "ename": "ValueError",
          "evalue": "max_features must be in (0, n_features]",
          "output_type": "error",
          "traceback": [
            "\u001b[1;31m---------------------------------------------------------------------------\u001b[0m",
            "\u001b[1;31mValueError\u001b[0m                                Traceback (most recent call last)",
            "\u001b[1;32mC:\\Users\\WOBETU~1\\AppData\\Local\\Temp/ipykernel_10720/2411326753.py\u001b[0m in \u001b[0;36m<module>\u001b[1;34m\u001b[0m\n\u001b[0;32m      1\u001b[0m \u001b[1;32mfor\u001b[0m \u001b[0mname\u001b[0m\u001b[1;33m,\u001b[0m \u001b[0mmodel\u001b[0m \u001b[1;32min\u001b[0m \u001b[0mmodels\u001b[0m\u001b[1;33m:\u001b[0m\u001b[1;33m\u001b[0m\u001b[1;33m\u001b[0m\u001b[0m\n\u001b[1;32m----> 2\u001b[1;33m     \u001b[0mmodel\u001b[0m\u001b[1;33m.\u001b[0m\u001b[0mfit\u001b[0m\u001b[1;33m(\u001b[0m\u001b[0mX_train\u001b[0m\u001b[1;33m,\u001b[0m \u001b[0my_train\u001b[0m\u001b[1;33m)\u001b[0m\u001b[1;33m\u001b[0m\u001b[1;33m\u001b[0m\u001b[0m\n\u001b[0m\u001b[0;32m      3\u001b[0m \u001b[1;33m\u001b[0m\u001b[0m\n\u001b[0;32m      4\u001b[0m     \u001b[0mconfusion\u001b[0m\u001b[1;33m=\u001b[0m\u001b[0mconfusion_matrix\u001b[0m\u001b[1;33m(\u001b[0m\u001b[0my_train\u001b[0m\u001b[1;33m,\u001b[0m \u001b[0mmodel\u001b[0m\u001b[1;33m.\u001b[0m\u001b[0mpredict\u001b[0m\u001b[1;33m(\u001b[0m\u001b[0mX_train\u001b[0m\u001b[1;33m)\u001b[0m\u001b[1;33m)\u001b[0m\u001b[1;33m\u001b[0m\u001b[1;33m\u001b[0m\u001b[0m\n\u001b[0;32m      5\u001b[0m \u001b[1;33m\u001b[0m\u001b[0m\n",
            "\u001b[1;32m~\\anaconda3\\lib\\site-packages\\sklearn\\tree\\_classes.py\u001b[0m in \u001b[0;36mfit\u001b[1;34m(self, X, y, sample_weight, check_input, X_idx_sorted)\u001b[0m\n\u001b[0;32m    935\u001b[0m         \"\"\"\n\u001b[0;32m    936\u001b[0m \u001b[1;33m\u001b[0m\u001b[0m\n\u001b[1;32m--> 937\u001b[1;33m         super().fit(\n\u001b[0m\u001b[0;32m    938\u001b[0m             \u001b[0mX\u001b[0m\u001b[1;33m,\u001b[0m\u001b[1;33m\u001b[0m\u001b[1;33m\u001b[0m\u001b[0m\n\u001b[0;32m    939\u001b[0m             \u001b[0my\u001b[0m\u001b[1;33m,\u001b[0m\u001b[1;33m\u001b[0m\u001b[1;33m\u001b[0m\u001b[0m\n",
            "\u001b[1;32m~\\anaconda3\\lib\\site-packages\\sklearn\\tree\\_classes.py\u001b[0m in \u001b[0;36mfit\u001b[1;34m(self, X, y, sample_weight, check_input, X_idx_sorted)\u001b[0m\n\u001b[0;32m    306\u001b[0m             \u001b[1;32mraise\u001b[0m \u001b[0mValueError\u001b[0m\u001b[1;33m(\u001b[0m\u001b[1;34m\"max_depth must be greater than zero. \"\u001b[0m\u001b[1;33m)\u001b[0m\u001b[1;33m\u001b[0m\u001b[1;33m\u001b[0m\u001b[0m\n\u001b[0;32m    307\u001b[0m         \u001b[1;32mif\u001b[0m \u001b[1;32mnot\u001b[0m \u001b[1;33m(\u001b[0m\u001b[1;36m0\u001b[0m \u001b[1;33m<\u001b[0m \u001b[0mmax_features\u001b[0m \u001b[1;33m<=\u001b[0m \u001b[0mself\u001b[0m\u001b[1;33m.\u001b[0m\u001b[0mn_features_in_\u001b[0m\u001b[1;33m)\u001b[0m\u001b[1;33m:\u001b[0m\u001b[1;33m\u001b[0m\u001b[1;33m\u001b[0m\u001b[0m\n\u001b[1;32m--> 308\u001b[1;33m             \u001b[1;32mraise\u001b[0m \u001b[0mValueError\u001b[0m\u001b[1;33m(\u001b[0m\u001b[1;34m\"max_features must be in (0, n_features]\"\u001b[0m\u001b[1;33m)\u001b[0m\u001b[1;33m\u001b[0m\u001b[1;33m\u001b[0m\u001b[0m\n\u001b[0m\u001b[0;32m    309\u001b[0m         \u001b[1;32mif\u001b[0m \u001b[1;32mnot\u001b[0m \u001b[0misinstance\u001b[0m\u001b[1;33m(\u001b[0m\u001b[0mmax_leaf_nodes\u001b[0m\u001b[1;33m,\u001b[0m \u001b[0mnumbers\u001b[0m\u001b[1;33m.\u001b[0m\u001b[0mIntegral\u001b[0m\u001b[1;33m)\u001b[0m\u001b[1;33m:\u001b[0m\u001b[1;33m\u001b[0m\u001b[1;33m\u001b[0m\u001b[0m\n\u001b[0;32m    310\u001b[0m             raise ValueError(\n",
            "\u001b[1;31mValueError\u001b[0m: max_features must be in (0, n_features]"
          ]
        }
      ],
      "source": [
        "for name, model in models:\n",
        "    model.fit(X_train, y_train)\n",
        "\n",
        "    confusion=confusion_matrix(y_train, model.predict(X_train))\n",
        "\n",
        "    TP = confusion[1, 1]\n",
        "    TN = confusion[0, 0]\n",
        "    FP = confusion[0, 1]\n",
        "    FN = confusion[1, 0]\n",
        "\n",
        "    # Sensitivity(recall), precision, or true positive rate\n",
        "    TPR = TP/(TP+FN)\n",
        "    TNR = TN/(TN+FP)\n",
        "    ACC = (TP+TN)/(TP+FP+FN+TN)\n",
        "    Precision = TP/(TP+FP)\n",
        "    Recall = TP/(TP+FN)\n",
        "    F1_Score = 2*(Recall * Precision) / (Recall + Precision)\n",
        "    print(name,'--------------------------------------------')\n",
        "    print('ACC:',ACC.round(2))\n",
        "    print('TPR:',TPR.round(2))\n",
        "    print('TNR:',TNR.round(2))\n",
        "    print('F1_Score:',F1_Score.round(2))"
      ]
    },
    {
      "cell_type": "markdown",
      "id": "d2a74f4a",
      "metadata": {
        "id": "d2a74f4a"
      },
      "source": [
        "#"
      ]
    },
    {
      "cell_type": "markdown",
      "id": "59e4bcb7",
      "metadata": {
        "id": "59e4bcb7"
      },
      "source": [
        "<font size=20, face='Times New Roman'>Testing</font>"
      ]
    },
    {
      "cell_type": "code",
      "execution_count": null,
      "id": "37e29aba",
      "metadata": {
        "id": "37e29aba",
        "outputId": "6d635aef-1dce-485b-fc8e-3632b102151a"
      },
      "outputs": [
        {
          "name": "stdout",
          "output_type": "stream",
          "text": [
            "SVM --------------------------------------------\n",
            "ACC: 0.57\n",
            "TPR: 0.0\n",
            "TNR: 1.0\n",
            "F1_Score: nan\n",
            "RF --------------------------------------------\n",
            "ACC: 0.65\n",
            "TPR: 0.28\n",
            "TNR: 0.93\n",
            "F1_Score: 0.41\n",
            "NN --------------------------------------------\n",
            "ACC: 0.57\n",
            "TPR: 0.0\n",
            "TNR: 1.0\n",
            "F1_Score: 0.01\n",
            "LR --------------------------------------------\n",
            "ACC: 0.57\n",
            "TPR: 0.0\n",
            "TNR: 1.0\n",
            "F1_Score: nan\n"
          ]
        },
        {
          "ename": "ValueError",
          "evalue": "max_features must be in (0, n_features]",
          "output_type": "error",
          "traceback": [
            "\u001b[1;31m---------------------------------------------------------------------------\u001b[0m",
            "\u001b[1;31mValueError\u001b[0m                                Traceback (most recent call last)",
            "\u001b[1;32mC:\\Users\\WOBETU~1\\AppData\\Local\\Temp/ipykernel_10720/2658914896.py\u001b[0m in \u001b[0;36m<module>\u001b[1;34m\u001b[0m\n\u001b[0;32m      1\u001b[0m \u001b[1;32mfor\u001b[0m \u001b[0mname\u001b[0m\u001b[1;33m,\u001b[0m \u001b[0mmodel\u001b[0m \u001b[1;32min\u001b[0m \u001b[0mmodels\u001b[0m\u001b[1;33m:\u001b[0m\u001b[1;33m\u001b[0m\u001b[1;33m\u001b[0m\u001b[0m\n\u001b[1;32m----> 2\u001b[1;33m     \u001b[0mmodel\u001b[0m\u001b[1;33m.\u001b[0m\u001b[0mfit\u001b[0m\u001b[1;33m(\u001b[0m\u001b[0mX_train\u001b[0m\u001b[1;33m,\u001b[0m \u001b[0my_train\u001b[0m\u001b[1;33m)\u001b[0m\u001b[1;33m\u001b[0m\u001b[1;33m\u001b[0m\u001b[0m\n\u001b[0m\u001b[0;32m      3\u001b[0m \u001b[1;33m\u001b[0m\u001b[0m\n\u001b[0;32m      4\u001b[0m     \u001b[0mconfusion\u001b[0m\u001b[1;33m=\u001b[0m\u001b[0mconfusion_matrix\u001b[0m\u001b[1;33m(\u001b[0m\u001b[0my_test\u001b[0m\u001b[1;33m,\u001b[0m \u001b[0mmodel\u001b[0m\u001b[1;33m.\u001b[0m\u001b[0mpredict\u001b[0m\u001b[1;33m(\u001b[0m\u001b[0mX_test\u001b[0m\u001b[1;33m)\u001b[0m\u001b[1;33m)\u001b[0m\u001b[1;33m\u001b[0m\u001b[1;33m\u001b[0m\u001b[0m\n\u001b[0;32m      5\u001b[0m \u001b[1;33m\u001b[0m\u001b[0m\n",
            "\u001b[1;32m~\\anaconda3\\lib\\site-packages\\sklearn\\tree\\_classes.py\u001b[0m in \u001b[0;36mfit\u001b[1;34m(self, X, y, sample_weight, check_input, X_idx_sorted)\u001b[0m\n\u001b[0;32m    935\u001b[0m         \"\"\"\n\u001b[0;32m    936\u001b[0m \u001b[1;33m\u001b[0m\u001b[0m\n\u001b[1;32m--> 937\u001b[1;33m         super().fit(\n\u001b[0m\u001b[0;32m    938\u001b[0m             \u001b[0mX\u001b[0m\u001b[1;33m,\u001b[0m\u001b[1;33m\u001b[0m\u001b[1;33m\u001b[0m\u001b[0m\n\u001b[0;32m    939\u001b[0m             \u001b[0my\u001b[0m\u001b[1;33m,\u001b[0m\u001b[1;33m\u001b[0m\u001b[1;33m\u001b[0m\u001b[0m\n",
            "\u001b[1;32m~\\anaconda3\\lib\\site-packages\\sklearn\\tree\\_classes.py\u001b[0m in \u001b[0;36mfit\u001b[1;34m(self, X, y, sample_weight, check_input, X_idx_sorted)\u001b[0m\n\u001b[0;32m    306\u001b[0m             \u001b[1;32mraise\u001b[0m \u001b[0mValueError\u001b[0m\u001b[1;33m(\u001b[0m\u001b[1;34m\"max_depth must be greater than zero. \"\u001b[0m\u001b[1;33m)\u001b[0m\u001b[1;33m\u001b[0m\u001b[1;33m\u001b[0m\u001b[0m\n\u001b[0;32m    307\u001b[0m         \u001b[1;32mif\u001b[0m \u001b[1;32mnot\u001b[0m \u001b[1;33m(\u001b[0m\u001b[1;36m0\u001b[0m \u001b[1;33m<\u001b[0m \u001b[0mmax_features\u001b[0m \u001b[1;33m<=\u001b[0m \u001b[0mself\u001b[0m\u001b[1;33m.\u001b[0m\u001b[0mn_features_in_\u001b[0m\u001b[1;33m)\u001b[0m\u001b[1;33m:\u001b[0m\u001b[1;33m\u001b[0m\u001b[1;33m\u001b[0m\u001b[0m\n\u001b[1;32m--> 308\u001b[1;33m             \u001b[1;32mraise\u001b[0m \u001b[0mValueError\u001b[0m\u001b[1;33m(\u001b[0m\u001b[1;34m\"max_features must be in (0, n_features]\"\u001b[0m\u001b[1;33m)\u001b[0m\u001b[1;33m\u001b[0m\u001b[1;33m\u001b[0m\u001b[0m\n\u001b[0m\u001b[0;32m    309\u001b[0m         \u001b[1;32mif\u001b[0m \u001b[1;32mnot\u001b[0m \u001b[0misinstance\u001b[0m\u001b[1;33m(\u001b[0m\u001b[0mmax_leaf_nodes\u001b[0m\u001b[1;33m,\u001b[0m \u001b[0mnumbers\u001b[0m\u001b[1;33m.\u001b[0m\u001b[0mIntegral\u001b[0m\u001b[1;33m)\u001b[0m\u001b[1;33m:\u001b[0m\u001b[1;33m\u001b[0m\u001b[1;33m\u001b[0m\u001b[0m\n\u001b[0;32m    310\u001b[0m             raise ValueError(\n",
            "\u001b[1;31mValueError\u001b[0m: max_features must be in (0, n_features]"
          ]
        }
      ],
      "source": [
        "for name, model in models:\n",
        "    model.fit(X_train, y_train)\n",
        "\n",
        "    confusion=confusion_matrix(y_test, model.predict(X_test))\n",
        "\n",
        "    TP = confusion[1, 1]\n",
        "    TN = confusion[0, 0]\n",
        "    FP = confusion[0, 1]\n",
        "    FN = confusion[1, 0]\n",
        "\n",
        "    #Sensitivity(recall), precision, or true positive rate\n",
        "    TPR = TP/(TP+FN)\n",
        "    TNR = TN/(TN+FP)\n",
        "    ACC = (TP+TN)/(TP+FP+FN+TN)\n",
        "    Precision = TP/(TP+FP)\n",
        "    Recall = TP/(TP+FN)\n",
        "    F1_Score = 2*(Recall * Precision) / (Recall + Precision)\n",
        "    print(name,'--------------------------------------------')\n",
        "    print('ACC:',ACC.round(2))\n",
        "    print('TPR:',TPR.round(2))\n",
        "    print('TNR:',TNR.round(2))\n",
        "    print('F1_Score:',F1_Score.round(2))"
      ]
    },
    {
      "cell_type": "code",
      "execution_count": null,
      "id": "62da3497",
      "metadata": {
        "id": "62da3497"
      },
      "outputs": [],
      "source": []
    },
    {
      "cell_type": "code",
      "execution_count": null,
      "id": "af89c6c2",
      "metadata": {
        "id": "af89c6c2"
      },
      "outputs": [],
      "source": []
    }
  ],
  "metadata": {
    "kernelspec": {
      "display_name": "Python 3 (ipykernel)",
      "language": "python",
      "name": "python3"
    },
    "language_info": {
      "codemirror_mode": {
        "name": "ipython",
        "version": 3
      },
      "file_extension": ".py",
      "mimetype": "text/x-python",
      "name": "python",
      "nbconvert_exporter": "python",
      "pygments_lexer": "ipython3",
      "version": "3.9.7"
    },
    "colab": {
      "provenance": [],
      "include_colab_link": true
    }
  },
  "nbformat": 4,
  "nbformat_minor": 5
}