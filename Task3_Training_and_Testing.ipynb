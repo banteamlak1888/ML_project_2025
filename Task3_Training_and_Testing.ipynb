{
  "cells": [
    {
      "cell_type": "markdown",
      "metadata": {
        "id": "view-in-github",
        "colab_type": "text"
      },
      "source": [
        "<a href=\"https://colab.research.google.com/github/banteamlak1888/ML_project_2025/blob/main/Task3_Training_and_Testing.ipynb\" target=\"_parent\"><img src=\"https://colab.research.google.com/assets/colab-badge.svg\" alt=\"Open In Colab\"/></a>"
      ]
    },
    {
      "cell_type": "markdown",
      "id": "6cff6a17",
      "metadata": {
        "id": "6cff6a17"
      },
      "source": [
        "#"
      ]
    },
    {
      "cell_type": "markdown",
      "id": "56543b81",
      "metadata": {
        "id": "56543b81"
      },
      "source": [
        "# <font size=25, face='Times New Roman'>Import Packeges</font>"
      ]
    },
    {
      "cell_type": "code",
      "execution_count": 24,
      "id": "a10b60da",
      "metadata": {
        "id": "a10b60da"
      },
      "outputs": [],
      "source": [
        "import warnings\n",
        "warnings.filterwarnings(\"ignore\", category=FutureWarning)\n",
        "warnings.simplefilter('ignore', DeprecationWarning)\n",
        "warnings.simplefilter('ignore', RuntimeWarning)\n",
        "#warnings.simplefilter('ignore', ConvergenceWarning)\n"
      ]
    },
    {
      "cell_type": "markdown",
      "id": "810da094",
      "metadata": {
        "id": "810da094"
      },
      "source": [
        "# <font size=25, face='Times New Roman'>Load Libraries</font>"
      ]
    },
    {
      "cell_type": "code",
      "execution_count": 25,
      "id": "e0c98d47",
      "metadata": {
        "id": "e0c98d47"
      },
      "outputs": [],
      "source": [
        "from pandas.plotting import scatter_matrix\n",
        "from sklearn.model_selection import train_test_split\n",
        "from sklearn.model_selection import KFold\n",
        "from sklearn.model_selection import cross_val_score\n",
        "from sklearn.metrics import classification_report\n",
        "from sklearn.metrics import accuracy_score\n",
        "from sklearn.metrics import confusion_matrix\n",
        "from sklearn.svm import SVC\n",
        "from sklearn.linear_model import LogisticRegression\n",
        "from sklearn.ensemble import RandomForestClassifier\n",
        "from sklearn.neural_network import MLPClassifier\n",
        "from sklearn.tree import DecisionTreeClassifier\n",
        "#from sklearn.neighbors import KNeighborsClassifier"
      ]
    },
    {
      "cell_type": "markdown",
      "id": "d6295952",
      "metadata": {
        "id": "d6295952"
      },
      "source": [
        "#"
      ]
    },
    {
      "cell_type": "code",
      "source": [
        "import matplotlib.pyplot as plt\n",
        "import numpy as np\n",
        "import scipy.stats as stats\n",
        "df2=pd.read_csv('T2_Filled_data_water_potability.csv')\n",
        "df2.value_counts()"
      ],
      "metadata": {
        "colab": {
          "base_uri": "https://localhost:8080/",
          "height": 490
        },
        "id": "P-HoNLOcnSQd",
        "outputId": "d01225af-7e38-4040-a2dc-71caf5c1dc9a"
      },
      "id": "P-HoNLOcnSQd",
      "execution_count": 27,
      "outputs": [
        {
          "output_type": "execute_result",
          "data": {
            "text/plain": [
              "ph         Hardness    Solids        Chloramines  Sulfate     Conductivity  Organic_carbon  Trihalomethanes  Turbidity  Potability\n",
              "14.000000  235.677458  24008.992040  5.635029     381.097711  460.745267    13.452538       72.859468        3.170994   0             1\n",
              "0.000000   214.846144  49456.587108  7.897539     333.775777  583.448849    7.702328        77.712891        4.928840   0             1\n",
              "0.227499   152.530111  39028.599340  3.462492     283.693782  443.029232    13.201943       62.322711        3.545741   1             1\n",
              "0.975578   221.204114  31145.110739  7.615583     333.677843  439.112765    21.145954       66.396293        2.533996   0             1\n",
              "0.989912   133.216942  16922.853899  9.293289     444.375731  322.291191    10.430076       43.578466        5.160604   1             1\n",
              "                                                                                                                                     ..\n",
              "2.803563   186.123924  11920.907422  8.642034     332.744519  447.594219    18.482185       87.697443        3.489939   0             1\n",
              "2.798549   311.383956  26931.243483  7.116897     333.775777  521.140524    14.235154       42.080353        3.663252   1             1\n",
              "2.690831   151.782906  30204.546735  6.053072     303.702409  377.198273    14.121049       45.602992        4.650034   0             1\n",
              "2.612036   188.804126  34798.252587  6.796439     333.775777  468.080267    13.170763       49.523770        4.765205   0             1\n",
              "2.569244   201.603284  48204.172192  6.380684     261.719960  429.746430    10.784140       79.719666        5.506934   0             1\n",
              "Name: count, Length: 3276, dtype: int64"
            ],
            "text/html": [
              "<div>\n",
              "<style scoped>\n",
              "    .dataframe tbody tr th:only-of-type {\n",
              "        vertical-align: middle;\n",
              "    }\n",
              "\n",
              "    .dataframe tbody tr th {\n",
              "        vertical-align: top;\n",
              "    }\n",
              "\n",
              "    .dataframe thead th {\n",
              "        text-align: right;\n",
              "    }\n",
              "</style>\n",
              "<table border=\"1\" class=\"dataframe\">\n",
              "  <thead>\n",
              "    <tr style=\"text-align: right;\">\n",
              "      <th></th>\n",
              "      <th></th>\n",
              "      <th></th>\n",
              "      <th></th>\n",
              "      <th></th>\n",
              "      <th></th>\n",
              "      <th></th>\n",
              "      <th></th>\n",
              "      <th></th>\n",
              "      <th></th>\n",
              "      <th>count</th>\n",
              "    </tr>\n",
              "    <tr>\n",
              "      <th>ph</th>\n",
              "      <th>Hardness</th>\n",
              "      <th>Solids</th>\n",
              "      <th>Chloramines</th>\n",
              "      <th>Sulfate</th>\n",
              "      <th>Conductivity</th>\n",
              "      <th>Organic_carbon</th>\n",
              "      <th>Trihalomethanes</th>\n",
              "      <th>Turbidity</th>\n",
              "      <th>Potability</th>\n",
              "      <th></th>\n",
              "    </tr>\n",
              "  </thead>\n",
              "  <tbody>\n",
              "    <tr>\n",
              "      <th>14.000000</th>\n",
              "      <th>235.677458</th>\n",
              "      <th>24008.992040</th>\n",
              "      <th>5.635029</th>\n",
              "      <th>381.097711</th>\n",
              "      <th>460.745267</th>\n",
              "      <th>13.452538</th>\n",
              "      <th>72.859468</th>\n",
              "      <th>3.170994</th>\n",
              "      <th>0</th>\n",
              "      <td>1</td>\n",
              "    </tr>\n",
              "    <tr>\n",
              "      <th>0.000000</th>\n",
              "      <th>214.846144</th>\n",
              "      <th>49456.587108</th>\n",
              "      <th>7.897539</th>\n",
              "      <th>333.775777</th>\n",
              "      <th>583.448849</th>\n",
              "      <th>7.702328</th>\n",
              "      <th>77.712891</th>\n",
              "      <th>4.928840</th>\n",
              "      <th>0</th>\n",
              "      <td>1</td>\n",
              "    </tr>\n",
              "    <tr>\n",
              "      <th>0.227499</th>\n",
              "      <th>152.530111</th>\n",
              "      <th>39028.599340</th>\n",
              "      <th>3.462492</th>\n",
              "      <th>283.693782</th>\n",
              "      <th>443.029232</th>\n",
              "      <th>13.201943</th>\n",
              "      <th>62.322711</th>\n",
              "      <th>3.545741</th>\n",
              "      <th>1</th>\n",
              "      <td>1</td>\n",
              "    </tr>\n",
              "    <tr>\n",
              "      <th>0.975578</th>\n",
              "      <th>221.204114</th>\n",
              "      <th>31145.110739</th>\n",
              "      <th>7.615583</th>\n",
              "      <th>333.677843</th>\n",
              "      <th>439.112765</th>\n",
              "      <th>21.145954</th>\n",
              "      <th>66.396293</th>\n",
              "      <th>2.533996</th>\n",
              "      <th>0</th>\n",
              "      <td>1</td>\n",
              "    </tr>\n",
              "    <tr>\n",
              "      <th>0.989912</th>\n",
              "      <th>133.216942</th>\n",
              "      <th>16922.853899</th>\n",
              "      <th>9.293289</th>\n",
              "      <th>444.375731</th>\n",
              "      <th>322.291191</th>\n",
              "      <th>10.430076</th>\n",
              "      <th>43.578466</th>\n",
              "      <th>5.160604</th>\n",
              "      <th>1</th>\n",
              "      <td>1</td>\n",
              "    </tr>\n",
              "    <tr>\n",
              "      <th>...</th>\n",
              "      <th>...</th>\n",
              "      <th>...</th>\n",
              "      <th>...</th>\n",
              "      <th>...</th>\n",
              "      <th>...</th>\n",
              "      <th>...</th>\n",
              "      <th>...</th>\n",
              "      <th>...</th>\n",
              "      <th>...</th>\n",
              "      <td>...</td>\n",
              "    </tr>\n",
              "    <tr>\n",
              "      <th>2.803563</th>\n",
              "      <th>186.123924</th>\n",
              "      <th>11920.907422</th>\n",
              "      <th>8.642034</th>\n",
              "      <th>332.744519</th>\n",
              "      <th>447.594219</th>\n",
              "      <th>18.482185</th>\n",
              "      <th>87.697443</th>\n",
              "      <th>3.489939</th>\n",
              "      <th>0</th>\n",
              "      <td>1</td>\n",
              "    </tr>\n",
              "    <tr>\n",
              "      <th>2.798549</th>\n",
              "      <th>311.383956</th>\n",
              "      <th>26931.243483</th>\n",
              "      <th>7.116897</th>\n",
              "      <th>333.775777</th>\n",
              "      <th>521.140524</th>\n",
              "      <th>14.235154</th>\n",
              "      <th>42.080353</th>\n",
              "      <th>3.663252</th>\n",
              "      <th>1</th>\n",
              "      <td>1</td>\n",
              "    </tr>\n",
              "    <tr>\n",
              "      <th>2.690831</th>\n",
              "      <th>151.782906</th>\n",
              "      <th>30204.546735</th>\n",
              "      <th>6.053072</th>\n",
              "      <th>303.702409</th>\n",
              "      <th>377.198273</th>\n",
              "      <th>14.121049</th>\n",
              "      <th>45.602992</th>\n",
              "      <th>4.650034</th>\n",
              "      <th>0</th>\n",
              "      <td>1</td>\n",
              "    </tr>\n",
              "    <tr>\n",
              "      <th>2.612036</th>\n",
              "      <th>188.804126</th>\n",
              "      <th>34798.252587</th>\n",
              "      <th>6.796439</th>\n",
              "      <th>333.775777</th>\n",
              "      <th>468.080267</th>\n",
              "      <th>13.170763</th>\n",
              "      <th>49.523770</th>\n",
              "      <th>4.765205</th>\n",
              "      <th>0</th>\n",
              "      <td>1</td>\n",
              "    </tr>\n",
              "    <tr>\n",
              "      <th>2.569244</th>\n",
              "      <th>201.603284</th>\n",
              "      <th>48204.172192</th>\n",
              "      <th>6.380684</th>\n",
              "      <th>261.719960</th>\n",
              "      <th>429.746430</th>\n",
              "      <th>10.784140</th>\n",
              "      <th>79.719666</th>\n",
              "      <th>5.506934</th>\n",
              "      <th>0</th>\n",
              "      <td>1</td>\n",
              "    </tr>\n",
              "  </tbody>\n",
              "</table>\n",
              "<p>3276 rows × 1 columns</p>\n",
              "</div><br><label><b>dtype:</b> int64</label>"
            ]
          },
          "metadata": {},
          "execution_count": 27
        }
      ]
    },
    {
      "cell_type": "markdown",
      "id": "26eb182a",
      "metadata": {
        "id": "26eb182a"
      },
      "source": [
        "<font size=25, face='Times New Roman'>Machine Learning Models</font>"
      ]
    },
    {
      "cell_type": "code",
      "execution_count": 28,
      "id": "754d78ee",
      "metadata": {
        "id": "754d78ee"
      },
      "outputs": [],
      "source": [
        "models = []\n",
        "models.append(('SVM', SVC(C=10, gamma=0.01, kernel='rbf')))\n",
        "models.append((\"RF\",RandomForestClassifier(max_features= 3, min_samples_leaf=4, min_samples_split=12, n_estimators= 300)))\n",
        "models.append((\"NN\",MLPClassifier(hidden_layer_sizes=(100,),activation= 'tanh', alpha= 0.05, learning_rate='adaptive', solver='sgd')))\n",
        "models.append(('LR',LogisticRegression(C=10,random_state = 0)))\n",
        "models.append(('DT', DecisionTreeClassifier(criterion='entropy', max_depth=6, max_features=15,min_samples_split= 2)))"
      ]
    },
    {
      "cell_type": "markdown",
      "id": "b0161bf2",
      "metadata": {
        "id": "b0161bf2"
      },
      "source": [
        "#"
      ]
    },
    {
      "cell_type": "markdown",
      "id": "3a4a157b",
      "metadata": {
        "id": "3a4a157b"
      },
      "source": [
        "<font size=25, face='Times New Roman'>Training and Testing</font>"
      ]
    },
    {
      "cell_type": "code",
      "execution_count": 29,
      "id": "d0023a38",
      "metadata": {
        "id": "d0023a38"
      },
      "outputs": [],
      "source": [
        "X_train, X_test, y_train, y_test = train_test_split(X, Y,test_size=0.2, random_state=1)"
      ]
    },
    {
      "cell_type": "markdown",
      "id": "0923af39",
      "metadata": {
        "id": "0923af39"
      },
      "source": [
        "#"
      ]
    },
    {
      "cell_type": "markdown",
      "id": "b83603b7",
      "metadata": {
        "id": "b83603b7"
      },
      "source": [
        "<font size=20, face='Times New Roman'>Training</font>"
      ]
    },
    {
      "cell_type": "code",
      "execution_count": 30,
      "id": "54952de3",
      "metadata": {
        "id": "54952de3",
        "outputId": "e8c3430f-1859-4e8e-a05a-0c50991f11cf",
        "colab": {
          "base_uri": "https://localhost:8080/"
        }
      },
      "outputs": [
        {
          "output_type": "stream",
          "name": "stdout",
          "text": [
            "SVM --------------------------------------------\n",
            "ACC: 1.0\n",
            "TPR: 1.0\n",
            "TNR: 1.0\n",
            "F1_Score: 1.0\n",
            "RF --------------------------------------------\n",
            "ACC: 0.95\n",
            "TPR: 0.88\n",
            "TNR: 1.0\n",
            "F1_Score: 0.93\n",
            "NN --------------------------------------------\n",
            "ACC: 0.62\n",
            "TPR: 0.0\n",
            "TNR: 1.0\n",
            "F1_Score: nan\n",
            "LR --------------------------------------------\n",
            "ACC: 0.62\n",
            "TPR: 0.0\n",
            "TNR: 1.0\n",
            "F1_Score: nan\n",
            "DT --------------------------------------------\n",
            "ACC: 0.69\n",
            "TPR: 0.25\n",
            "TNR: 0.96\n",
            "F1_Score: 0.39\n"
          ]
        },
        {
          "output_type": "stream",
          "name": "stderr",
          "text": [
            "/usr/local/lib/python3.11/dist-packages/sklearn/linear_model/_logistic.py:465: ConvergenceWarning: lbfgs failed to converge (status=1):\n",
            "STOP: TOTAL NO. of ITERATIONS REACHED LIMIT.\n",
            "\n",
            "Increase the number of iterations (max_iter) or scale the data as shown in:\n",
            "    https://scikit-learn.org/stable/modules/preprocessing.html\n",
            "Please also refer to the documentation for alternative solver options:\n",
            "    https://scikit-learn.org/stable/modules/linear_model.html#logistic-regression\n",
            "  n_iter_i = _check_optimize_result(\n"
          ]
        }
      ],
      "source": [
        "for name, model in models:\n",
        "    model.fit(X_train, y_train)\n",
        "\n",
        "    confusion=confusion_matrix(y_train, model.predict(X_train))\n",
        "\n",
        "    TP = confusion[1, 1]\n",
        "    TN = confusion[0, 0]\n",
        "    FP = confusion[0, 1]\n",
        "    FN = confusion[1, 0]\n",
        "\n",
        "    # Sensitivity(recall), precision, or true positive rate\n",
        "    TPR = TP/(TP+FN)\n",
        "    TNR = TN/(TN+FP)\n",
        "    ACC = (TP+TN)/(TP+FP+FN+TN)\n",
        "    Precision = TP/(TP+FP)\n",
        "    Recall = TP/(TP+FN)\n",
        "    F1_Score = 2*(Recall * Precision) / (Recall + Precision)\n",
        "    print(name,'--------------------------------------------')\n",
        "    print('ACC:',ACC.round(2))\n",
        "    print('TPR:',TPR.round(2))\n",
        "    print('TNR:',TNR.round(2))\n",
        "    print('F1_Score:',F1_Score.round(2))"
      ]
    },
    {
      "cell_type": "markdown",
      "id": "d2a74f4a",
      "metadata": {
        "id": "d2a74f4a"
      },
      "source": [
        "#"
      ]
    },
    {
      "cell_type": "markdown",
      "id": "59e4bcb7",
      "metadata": {
        "id": "59e4bcb7"
      },
      "source": [
        "<font size=20, face='Times New Roman'>Testing</font>"
      ]
    },
    {
      "cell_type": "code",
      "execution_count": 31,
      "id": "37e29aba",
      "metadata": {
        "id": "37e29aba",
        "outputId": "cfd1e084-0ab4-4c41-e23d-55968ae862e1",
        "colab": {
          "base_uri": "https://localhost:8080/"
        }
      },
      "outputs": [
        {
          "output_type": "stream",
          "name": "stdout",
          "text": [
            "SVM --------------------------------------------\n",
            "ACC: 0.57\n",
            "TPR: 0.0\n",
            "TNR: 1.0\n",
            "F1_Score: nan\n",
            "RF --------------------------------------------\n",
            "ACC: 0.64\n",
            "TPR: 0.27\n",
            "TNR: 0.92\n",
            "F1_Score: 0.39\n",
            "NN --------------------------------------------\n",
            "ACC: 0.57\n",
            "TPR: 0.0\n",
            "TNR: 1.0\n",
            "F1_Score: nan\n",
            "LR --------------------------------------------\n",
            "ACC: 0.57\n",
            "TPR: 0.0\n",
            "TNR: 1.0\n",
            "F1_Score: 0.01\n",
            "DT --------------------------------------------\n",
            "ACC: 0.6\n",
            "TPR: 0.19\n",
            "TNR: 0.92\n",
            "F1_Score: 0.29\n"
          ]
        },
        {
          "output_type": "stream",
          "name": "stderr",
          "text": [
            "/usr/local/lib/python3.11/dist-packages/sklearn/linear_model/_logistic.py:465: ConvergenceWarning: lbfgs failed to converge (status=1):\n",
            "STOP: TOTAL NO. of ITERATIONS REACHED LIMIT.\n",
            "\n",
            "Increase the number of iterations (max_iter) or scale the data as shown in:\n",
            "    https://scikit-learn.org/stable/modules/preprocessing.html\n",
            "Please also refer to the documentation for alternative solver options:\n",
            "    https://scikit-learn.org/stable/modules/linear_model.html#logistic-regression\n",
            "  n_iter_i = _check_optimize_result(\n"
          ]
        }
      ],
      "source": [
        "for name, model in models:\n",
        "    model.fit(X_train, y_train)\n",
        "\n",
        "    confusion=confusion_matrix(y_test, model.predict(X_test))\n",
        "\n",
        "    TP = confusion[1, 1]\n",
        "    TN = confusion[0, 0]\n",
        "    FP = confusion[0, 1]\n",
        "    FN = confusion[1, 0]\n",
        "\n",
        "    #Sensitivity(recall), precision, or true positive rate\n",
        "    TPR = TP/(TP+FN)\n",
        "    TNR = TN/(TN+FP)\n",
        "    ACC = (TP+TN)/(TP+FP+FN+TN)\n",
        "    Precision = TP/(TP+FP)\n",
        "    Recall = TP/(TP+FN)\n",
        "    F1_Score = 2*(Recall * Precision) / (Recall + Precision)\n",
        "    print(name,'--------------------------------------------')\n",
        "    print('ACC:',ACC.round(2))\n",
        "    print('TPR:',TPR.round(2))\n",
        "    print('TNR:',TNR.round(2))\n",
        "    print('F1_Score:',F1_Score.round(2))"
      ]
    }
  ],
  "metadata": {
    "kernelspec": {
      "display_name": "Python 3 (ipykernel)",
      "language": "python",
      "name": "python3"
    },
    "language_info": {
      "codemirror_mode": {
        "name": "ipython",
        "version": 3
      },
      "file_extension": ".py",
      "mimetype": "text/x-python",
      "name": "python",
      "nbconvert_exporter": "python",
      "pygments_lexer": "ipython3",
      "version": "3.9.7"
    },
    "colab": {
      "provenance": [],
      "include_colab_link": true
    }
  },
  "nbformat": 4,
  "nbformat_minor": 5
}